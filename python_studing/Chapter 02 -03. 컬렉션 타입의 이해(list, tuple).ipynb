{
 "cells": [
  {
   "cell_type": "markdown",
   "metadata": {
    "colab_type": "text",
    "id": "Z4Bu_aOwrwUE"
   },
   "source": [
    "## 학습목표\n",
    " 1. list, tuple에 대해 이해 및 실습\n"
   ]
  },
  {
   "cell_type": "markdown",
   "metadata": {
    "colab_type": "text",
    "id": "0U8hFE2UrwUI"
   },
   "source": [
    "### **리스트 & 튜플**\n",
    " * 복수개의 값을 담을 수 있는 데이터 구조\n",
    " * 실생활에서 사용하는 리스트(학생 리스트, 성적 리스트 등등)과 동일한 의미로 이해\n",
    " * list - mutable    (생성된 후에 변경 가능)  \n",
    " * tuple - immutable (생성된 후에 변경 불가능)  "
   ]
  },
  {
   "cell_type": "markdown",
   "metadata": {
    "colab_type": "text",
    "id": "739yxFrLrwUK"
   },
   "source": [
    "#### **리스트 초기화**\n",
    " - [] 안에 값을 담아서 생성\n",
    " - list() 함수로 생성\n",
    " - str.split()함수로 생성"
   ]
  },
  {
   "cell_type": "code",
   "execution_count": 2,
   "metadata": {
    "colab": {},
    "colab_type": "code",
    "id": "oZLdNs7d0yVA"
   },
   "outputs": [
    {
     "name": "stdout",
     "output_type": "stream",
     "text": [
      "[]\n"
     ]
    }
   ],
   "source": [
    "a =[]\n",
    "print(a)"
   ]
  },
  {
   "cell_type": "markdown",
   "metadata": {
    "colab_type": "text",
    "id": "-7roAVzUrwUM"
   },
   "source": [
    "* **list() 함수**\n",
    " + 다른 데이터 타입을 리스트로 변환할 때도 사용"
   ]
  },
  {
   "cell_type": "code",
   "execution_count": 3,
   "metadata": {
    "colab": {
     "base_uri": "https://localhost:8080/",
     "height": 35
    },
    "colab_type": "code",
    "executionInfo": {
     "elapsed": 1008,
     "status": "ok",
     "timestamp": 1581367011925,
     "user": {
      "displayName": "Dr Will닥터윌",
      "photoUrl": "",
      "userId": "09537670203767475450"
     },
     "user_tz": -540
    },
    "id": "n4TQFvGD0XRC",
    "outputId": "9742d4fa-1da8-4fb8-827e-9ca498a65360"
   },
   "outputs": [
    {
     "name": "stdout",
     "output_type": "stream",
     "text": [
      "[1, 2, 3, 4, 5]\n"
     ]
    }
   ],
   "source": [
    "a = [1,2,3,4,5]\n",
    "print(a)"
   ]
  },
  {
   "cell_type": "code",
   "execution_count": 4,
   "metadata": {
    "colab": {
     "base_uri": "https://localhost:8080/",
     "height": 35
    },
    "colab_type": "code",
    "executionInfo": {
     "elapsed": 921,
     "status": "ok",
     "timestamp": 1581367082941,
     "user": {
      "displayName": "Dr Will닥터윌",
      "photoUrl": "",
      "userId": "09537670203767475450"
     },
     "user_tz": -540
    },
    "id": "H3mi1s4P0efI",
    "outputId": "89b60a40-18e7-4fe8-8e44-4882a50dea8b"
   },
   "outputs": [
    {
     "name": "stdout",
     "output_type": "stream",
     "text": [
      "['Korea', 'Canada', 1, 2, [3, 4]]\n"
     ]
    }
   ],
   "source": [
    "a = ['Korea', 'Canada', 1,2,[3,4]]\n",
    "print(a)"
   ]
  },
  {
   "cell_type": "markdown",
   "metadata": {
    "colab_type": "text",
    "id": "APh94xJj075j"
   },
   "source": [
    "다른 데이터 타입을 리스트로 변환할 때도 사용"
   ]
  },
  {
   "cell_type": "code",
   "execution_count": 5,
   "metadata": {
    "colab": {
     "base_uri": "https://localhost:8080/",
     "height": 35
    },
    "colab_type": "code",
    "executionInfo": {
     "elapsed": 833,
     "status": "ok",
     "timestamp": 1581367179151,
     "user": {
      "displayName": "Dr Will닥터윌",
      "photoUrl": "",
      "userId": "09537670203767475450"
     },
     "user_tz": -540
    },
    "id": "t6rcGn9GrwUO",
    "outputId": "f7eeef61-e0ed-443e-e1fd-d47dd52cade3"
   },
   "outputs": [
    {
     "name": "stdout",
     "output_type": "stream",
     "text": [
      "['h', 'e', 'l', 'l', 'o', ' ', 's', 'e', 'j', 'o', 'n', 'g', ' ', 'h', 't', 'm']\n"
     ]
    }
   ],
   "source": [
    "a = 'hello sejong htm'\n",
    "b = list(a)\n",
    "print(b)"
   ]
  },
  {
   "cell_type": "code",
   "execution_count": 6,
   "metadata": {
    "colab": {
     "base_uri": "https://localhost:8080/",
     "height": 35
    },
    "colab_type": "code",
    "executionInfo": {
     "elapsed": 942,
     "status": "ok",
     "timestamp": 1581367246492,
     "user": {
      "displayName": "Dr Will닥터윌",
      "photoUrl": "",
      "userId": "09537670203767475450"
     },
     "user_tz": -540
    },
    "id": "TT85tPj71N-f",
    "outputId": "8bc1abb0-7a1e-4796-a237-05489906f987"
   },
   "outputs": [
    {
     "name": "stdout",
     "output_type": "stream",
     "text": [
      "[1, 2, 3]\n"
     ]
    }
   ],
   "source": [
    "c = (1,2,3) # tuple\n",
    "d =list(c)\n",
    "\n",
    "print(d)"
   ]
  },
  {
   "cell_type": "markdown",
   "metadata": {
    "colab_type": "text",
    "id": "xhLGje3urwUV"
   },
   "source": [
    "+ **string split 함수**\n",
    " * 구분자로 구분되는 리스트를 반환 (빈번히 사용 됨)"
   ]
  },
  {
   "cell_type": "code",
   "execution_count": 7,
   "metadata": {
    "colab": {
     "base_uri": "https://localhost:8080/",
     "height": 35
    },
    "colab_type": "code",
    "executionInfo": {
     "elapsed": 894,
     "status": "ok",
     "timestamp": 1581367293626,
     "user": {
      "displayName": "Dr Will닥터윌",
      "photoUrl": "",
      "userId": "09537670203767475450"
     },
     "user_tz": -540
    },
    "id": "z-YHYJ9prwUY",
    "outputId": "6442a343-5c65-477d-f76a-4264d16f7570"
   },
   "outputs": [
    {
     "name": "stdout",
     "output_type": "stream",
     "text": [
      "['hello', 'sejong', 'htm', 'students']\n"
     ]
    }
   ],
   "source": [
    "a = 'hello sejong htm students'\n",
    "b = a.split()\n",
    "\n",
    "print(b)"
   ]
  },
  {
   "cell_type": "markdown",
   "metadata": {
    "colab_type": "text",
    "id": "ZzinG_3YrwUe"
   },
   "source": [
    "#### **리스트 indexing**\n",
    " * 문자열의 인덱싱과 동일하게 동작\n",
    " * [] 연산자를 이용하여 항목 얻어오기\n",
    " * [i] - i번째 원소를 반환\n",
    " * i가 음수인 경우도 가능하며 마지막원소가 -1로 하여 앞으로 갈때마다 1씩 감소함"
   ]
  },
  {
   "cell_type": "code",
   "execution_count": 8,
   "metadata": {
    "colab": {
     "base_uri": "https://localhost:8080/",
     "height": 54
    },
    "colab_type": "code",
    "executionInfo": {
     "elapsed": 895,
     "status": "ok",
     "timestamp": 1581367388154,
     "user": {
      "displayName": "Dr Will닥터윌",
      "photoUrl": "",
      "userId": "09537670203767475450"
     },
     "user_tz": -540
    },
    "id": "52kIqAY5rwUg",
    "outputId": "bff45a30-5f15-42a1-e78e-ecc4276bd866"
   },
   "outputs": [
    {
     "name": "stdout",
     "output_type": "stream",
     "text": [
      "4\n",
      "6\n"
     ]
    }
   ],
   "source": [
    "a = [1,2,3,4,5,6]\n",
    "print(a[3])\n",
    "print(a[5])"
   ]
  },
  {
   "cell_type": "code",
   "execution_count": 9,
   "metadata": {
    "colab": {
     "base_uri": "https://localhost:8080/",
     "height": 35
    },
    "colab_type": "code",
    "executionInfo": {
     "elapsed": 888,
     "status": "ok",
     "timestamp": 1581367412378,
     "user": {
      "displayName": "Dr Will닥터윌",
      "photoUrl": "",
      "userId": "09537670203767475450"
     },
     "user_tz": -540
    },
    "id": "UBXTNMvg14Fx",
    "outputId": "113c3783-6178-4050-8280-3b8835b545b8"
   },
   "outputs": [
    {
     "name": "stdout",
     "output_type": "stream",
     "text": [
      "h\n"
     ]
    }
   ],
   "source": [
    "a = \"hello sejong htm\"\n",
    "print(a[0])"
   ]
  },
  {
   "cell_type": "code",
   "execution_count": 10,
   "metadata": {
    "colab": {
     "base_uri": "https://localhost:8080/",
     "height": 173
    },
    "colab_type": "code",
    "executionInfo": {
     "elapsed": 844,
     "status": "error",
     "timestamp": 1581367432412,
     "user": {
      "displayName": "Dr Will닥터윌",
      "photoUrl": "",
      "userId": "09537670203767475450"
     },
     "user_tz": -540
    },
    "id": "l5Fs69RC19Xe",
    "outputId": "67321d32-6587-4dcd-eeb0-16418c4a228b"
   },
   "outputs": [
    {
     "ename": "TypeError",
     "evalue": "'str' object does not support item assignment",
     "output_type": "error",
     "traceback": [
      "\u001b[0;31m---------------------------------------------------------------------------\u001b[0m",
      "\u001b[0;31mTypeError\u001b[0m                                 Traceback (most recent call last)",
      "\u001b[0;32m<ipython-input-10-cc9bd341dfa8>\u001b[0m in \u001b[0;36m<module>\u001b[0;34m\u001b[0m\n\u001b[0;32m----> 1\u001b[0;31m \u001b[0ma\u001b[0m\u001b[0;34m[\u001b[0m\u001b[0;36m0\u001b[0m\u001b[0;34m]\u001b[0m\u001b[0;34m=\u001b[0m\u001b[0;34m'j'\u001b[0m \u001b[0;31m# 문자열은 불변 개체임 (immutable)\u001b[0m\u001b[0;34m\u001b[0m\u001b[0;34m\u001b[0m\u001b[0m\n\u001b[0m",
      "\u001b[0;31mTypeError\u001b[0m: 'str' object does not support item assignment"
     ]
    }
   ],
   "source": [
    "a[0]='j' # 문자열은 불변 개체임 (immutable)"
   ]
  },
  {
   "cell_type": "code",
   "execution_count": 11,
   "metadata": {
    "colab": {
     "base_uri": "https://localhost:8080/",
     "height": 54
    },
    "colab_type": "code",
    "executionInfo": {
     "elapsed": 872,
     "status": "ok",
     "timestamp": 1581367521096,
     "user": {
      "displayName": "Dr Will닥터윌",
      "photoUrl": "",
      "userId": "09537670203767475450"
     },
     "user_tz": -540
    },
    "id": "mmFy6fuG2MWZ",
    "outputId": "2bc1a512-e830-4956-8163-b34a87846d6f"
   },
   "outputs": [
    {
     "name": "stdout",
     "output_type": "stream",
     "text": [
      "jello sejong htm\n",
      "jello sejong htm\n"
     ]
    }
   ],
   "source": [
    "b= \"jello sejong htm\"\n",
    "c ='j' + a[1:]\n",
    "\n",
    "print(b)\n",
    "print(c)"
   ]
  },
  {
   "cell_type": "code",
   "execution_count": 12,
   "metadata": {
    "colab": {
     "base_uri": "https://localhost:8080/",
     "height": 35
    },
    "colab_type": "code",
    "executionInfo": {
     "elapsed": 844,
     "status": "ok",
     "timestamp": 1581367593594,
     "user": {
      "displayName": "Dr Will닥터윌",
      "photoUrl": "",
      "userId": "09537670203767475450"
     },
     "user_tz": -540
    },
    "id": "TmxNBsKs2jk5",
    "outputId": "d6122c60-d4f3-40a8-ff17-a77c6cfb5a99"
   },
   "outputs": [
    {
     "name": "stdout",
     "output_type": "stream",
     "text": [
      "jello sejong jtm\n"
     ]
    }
   ],
   "source": [
    "d = a.replace('h','j') # h를 j로\n",
    "\n",
    "print(d)"
   ]
  },
  {
   "cell_type": "code",
   "execution_count": 13,
   "metadata": {
    "colab": {
     "base_uri": "https://localhost:8080/",
     "height": 35
    },
    "colab_type": "code",
    "executionInfo": {
     "elapsed": 806,
     "status": "ok",
     "timestamp": 1581367612751,
     "user": {
      "displayName": "Dr Will닥터윌",
      "photoUrl": "",
      "userId": "09537670203767475450"
     },
     "user_tz": -540
    },
    "id": "sRSRTwJW2pAc",
    "outputId": "10d48334-9774-44de-830a-77e1a5fca78a"
   },
   "outputs": [
    {
     "name": "stdout",
     "output_type": "stream",
     "text": [
      "hello sejong htm\n"
     ]
    }
   ],
   "source": [
    "print(a)"
   ]
  },
  {
   "cell_type": "markdown",
   "metadata": {
    "colab_type": "text",
    "id": "b91VSWFhrwUm"
   },
   "source": [
    "#### **리스트 개별 아이템에 접근**\n",
    " - 인덱스에 접근하여 값을 업데이트 가능"
   ]
  },
  {
   "cell_type": "code",
   "execution_count": 14,
   "metadata": {
    "colab": {
     "base_uri": "https://localhost:8080/",
     "height": 35
    },
    "colab_type": "code",
    "executionInfo": {
     "elapsed": 908,
     "status": "ok",
     "timestamp": 1581367710441,
     "user": {
      "displayName": "Dr Will닥터윌",
      "photoUrl": "",
      "userId": "09537670203767475450"
     },
     "user_tz": -540
    },
    "id": "yZs971sErwUo",
    "outputId": "175d7efa-32a6-4f0e-af18-c8bb52375223"
   },
   "outputs": [
    {
     "name": "stdout",
     "output_type": "stream",
     "text": [
      "[100, 2, 3, 4, 5]\n"
     ]
    }
   ],
   "source": [
    "a = [1,2,3,4,5]\n",
    "a[0] = 100\n",
    "\n",
    "print(a)"
   ]
  },
  {
   "cell_type": "markdown",
   "metadata": {
    "colab_type": "text",
    "id": "N7-xPtVerwUs"
   },
   "source": [
    "#### **리스트 slicing**\n",
    " - 문자열 슬라이싱과 동일하게 동작\n",
    " - 슬라이싱의 결과 역시 list!"
   ]
  },
  {
   "cell_type": "code",
   "execution_count": 15,
   "metadata": {
    "colab": {
     "base_uri": "https://localhost:8080/",
     "height": 35
    },
    "colab_type": "code",
    "executionInfo": {
     "elapsed": 845,
     "status": "ok",
     "timestamp": 1581367735603,
     "user": {
      "displayName": "Dr Will닥터윌",
      "photoUrl": "",
      "userId": "09537670203767475450"
     },
     "user_tz": -540
    },
    "id": "waXZYQRirwUt",
    "outputId": "88b92786-d01c-4136-c593-51df87bfca96"
   },
   "outputs": [
    {
     "data": {
      "text/plain": [
       "[5, 6, 7]"
      ]
     },
     "execution_count": 15,
     "metadata": {},
     "output_type": "execute_result"
    }
   ],
   "source": [
    "a = [1,2,3,4,5,6,7,8]\n",
    "a[4:7]"
   ]
  },
  {
   "cell_type": "code",
   "execution_count": 16,
   "metadata": {
    "colab": {
     "base_uri": "https://localhost:8080/",
     "height": 72
    },
    "colab_type": "code",
    "executionInfo": {
     "elapsed": 862,
     "status": "ok",
     "timestamp": 1581367841007,
     "user": {
      "displayName": "Dr Will닥터윌",
      "photoUrl": "",
      "userId": "09537670203767475450"
     },
     "user_tz": -540
    },
    "id": "cmJQ5aAN3SK4",
    "outputId": "517d2f5b-0111-4557-834f-7bf6dae32bf1"
   },
   "outputs": [
    {
     "name": "stdout",
     "output_type": "stream",
     "text": [
      "[1, 2, 3, 4, 5, 6, 7]\n",
      "[4, 5, 6, 7, 8]\n",
      "[1, 2, 3, 4, 5, 6, 7, 8]\n"
     ]
    }
   ],
   "source": [
    "print(a[:7])\n",
    "print(a[3:])\n",
    "print(a[:])"
   ]
  },
  {
   "cell_type": "code",
   "execution_count": 17,
   "metadata": {
    "colab": {
     "base_uri": "https://localhost:8080/",
     "height": 35
    },
    "colab_type": "code",
    "executionInfo": {
     "elapsed": 897,
     "status": "ok",
     "timestamp": 1581367921264,
     "user": {
      "displayName": "Dr Will닥터윌",
      "photoUrl": "",
      "userId": "09537670203767475450"
     },
     "user_tz": -540
    },
    "id": "CS78NfEO3iG2",
    "outputId": "7e537a4b-0a63-4b59-9bf4-de4ed77680d3"
   },
   "outputs": [
    {
     "data": {
      "text/plain": [
       "[2, 3, 4, 5, 6, 7]"
      ]
     },
     "execution_count": 17,
     "metadata": {},
     "output_type": "execute_result"
    }
   ],
   "source": [
    "#slicing : start:end:increment(시작:끝:배수)\n",
    "\n",
    "a[1:7:1]"
   ]
  },
  {
   "cell_type": "code",
   "execution_count": 29,
   "metadata": {
    "colab": {
     "base_uri": "https://localhost:8080/",
     "height": 35
    },
    "colab_type": "code",
    "executionInfo": {
     "elapsed": 853,
     "status": "ok",
     "timestamp": 1581367924241,
     "user": {
      "displayName": "Dr Will닥터윌",
      "photoUrl": "",
      "userId": "09537670203767475450"
     },
     "user_tz": -540
    },
    "id": "-jq7JiNX31co",
    "outputId": "1ff26566-4c9d-47e6-e247-48e50cca5081"
   },
   "outputs": [
    {
     "data": {
      "text/plain": [
       "[2, 4, 6]"
      ]
     },
     "execution_count": 29,
     "metadata": {
      "tags": []
     },
     "output_type": "execute_result"
    }
   ],
   "source": [
    "a[1:7:2]"
   ]
  },
  {
   "cell_type": "markdown",
   "metadata": {
    "colab_type": "text",
    "id": "VDf904z3rwUy"
   },
   "source": [
    "### list 멤버 함수\n",
    " - 생성된 리스트 객체에 동작하는 함수\n",
    " - 향후, 클래스와 멤버 함수 개념을 이해할 예정"
   ]
  },
  {
   "cell_type": "markdown",
   "metadata": {
    "colab_type": "text",
    "id": "gbxU1Eb5rwUz"
   },
   "source": [
    "* **append()**\n",
    " + 리스트의 끝에 항목을 추가함"
   ]
  },
  {
   "cell_type": "code",
   "execution_count": 30,
   "metadata": {
    "colab": {
     "base_uri": "https://localhost:8080/",
     "height": 35
    },
    "colab_type": "code",
    "executionInfo": {
     "elapsed": 991,
     "status": "ok",
     "timestamp": 1581370114365,
     "user": {
      "displayName": "Dr Will닥터윌",
      "photoUrl": "",
      "userId": "09537670203767475450"
     },
     "user_tz": -540
    },
    "id": "iW8OQX1GrwU0",
    "outputId": "819dbc5e-ac75-4382-f208-8e552512016e"
   },
   "outputs": [
    {
     "name": "stdout",
     "output_type": "stream",
     "text": [
      "[1, 2, 3, 4, 10]\n"
     ]
    }
   ],
   "source": [
    "a = [1,2,3,4]\n",
    "a.append(10)\n",
    "\n",
    "print(a)"
   ]
  },
  {
   "cell_type": "markdown",
   "metadata": {
    "colab_type": "text",
    "id": "_XsZbqhJrwU3"
   },
   "source": [
    "+ **extend()**\n",
    " * 리스트를 연장\n",
    " * += 로도 가능함"
   ]
  },
  {
   "cell_type": "code",
   "execution_count": 37,
   "metadata": {
    "colab": {
     "base_uri": "https://localhost:8080/",
     "height": 35
    },
    "colab_type": "code",
    "executionInfo": {
     "elapsed": 788,
     "status": "ok",
     "timestamp": 1581370268643,
     "user": {
      "displayName": "Dr Will닥터윌",
      "photoUrl": "",
      "userId": "09537670203767475450"
     },
     "user_tz": -540
    },
    "id": "CJUVUGnTrwU4",
    "outputId": "03b3417f-e79d-4cd2-f233-da5ce105d8f4"
   },
   "outputs": [
    {
     "name": "stdout",
     "output_type": "stream",
     "text": [
      "[1, 2, 3, 4, [5, 6, 7, 8]]\n"
     ]
    }
   ],
   "source": [
    "a = [1,2,3,4]\n",
    "b = [5,6,7,8]\n",
    "\n",
    "a.append(b)\n",
    "print(a)"
   ]
  },
  {
   "cell_type": "code",
   "execution_count": 38,
   "metadata": {
    "colab": {
     "base_uri": "https://localhost:8080/",
     "height": 35
    },
    "colab_type": "code",
    "executionInfo": {
     "elapsed": 847,
     "status": "ok",
     "timestamp": 1581370271306,
     "user": {
      "displayName": "Dr Will닥터윌",
      "photoUrl": "",
      "userId": "09537670203767475450"
     },
     "user_tz": -540
    },
    "id": "AbLpVvsTAsCV",
    "outputId": "63519a99-aa0e-4db5-94c3-83324ae74589"
   },
   "outputs": [
    {
     "name": "stdout",
     "output_type": "stream",
     "text": [
      "[1, 2, 3, 4, 5, 6, 7, 8]\n"
     ]
    }
   ],
   "source": [
    "a = [1,2,3,4]\n",
    "b = [5,6,7,8]\n",
    "\n",
    "a.extend(b)\n",
    "print(a)"
   ]
  },
  {
   "cell_type": "code",
   "execution_count": 39,
   "metadata": {
    "colab": {
     "base_uri": "https://localhost:8080/",
     "height": 35
    },
    "colab_type": "code",
    "executionInfo": {
     "elapsed": 972,
     "status": "ok",
     "timestamp": 1581370307909,
     "user": {
      "displayName": "Dr Will닥터윌",
      "photoUrl": "",
      "userId": "09537670203767475450"
     },
     "user_tz": -540
    },
    "id": "xX8Fs6BnA8UN",
    "outputId": "5548191b-f993-4d7a-9e19-0894392c649c"
   },
   "outputs": [
    {
     "name": "stdout",
     "output_type": "stream",
     "text": [
      "[1, 2, 3, 4, 5, 6, 7, 8]\n"
     ]
    }
   ],
   "source": [
    "a = [1,2,3,4]\n",
    "b = [5,6,7,8]\n",
    "\n",
    "a += b\n",
    "print(a)"
   ]
  },
  {
   "cell_type": "markdown",
   "metadata": {
    "colab_type": "text",
    "id": "2tr-oUmvrwU_"
   },
   "source": [
    "+ **insert()로 항목추가**\n",
    " * 리스트의 원하는 위치에 추가 가능\n",
    " * 앞에 인덱스를, 뒤에 아이템을 명시"
   ]
  },
  {
   "cell_type": "code",
   "execution_count": 40,
   "metadata": {
    "colab": {
     "base_uri": "https://localhost:8080/",
     "height": 35
    },
    "colab_type": "code",
    "executionInfo": {
     "elapsed": 967,
     "status": "ok",
     "timestamp": 1581370382600,
     "user": {
      "displayName": "Dr Will닥터윌",
      "photoUrl": "",
      "userId": "09537670203767475450"
     },
     "user_tz": -540
    },
    "id": "s3C8jF2yBEcF",
    "outputId": "b57f803b-809c-4ae3-9311-d3c34cbc4fb2"
   },
   "outputs": [
    {
     "name": "stdout",
     "output_type": "stream",
     "text": [
      "[1, 40, 2, 3, 4, 5]\n"
     ]
    }
   ],
   "source": [
    "a = [1,2,3,4,5]\n",
    "a.insert(1, 40) # insert(index, value) 1번 인덱스에 40추가\n",
    "\n",
    "print(a)"
   ]
  },
  {
   "cell_type": "markdown",
   "metadata": {
    "colab_type": "text",
    "id": "UUJrOsJarwVB"
   },
   "source": [
    "+ **remove()**\n",
    " * 값으로 항목 삭제"
   ]
  },
  {
   "cell_type": "code",
   "execution_count": 42,
   "metadata": {
    "colab": {
     "base_uri": "https://localhost:8080/",
     "height": 35
    },
    "colab_type": "code",
    "executionInfo": {
     "elapsed": 799,
     "status": "ok",
     "timestamp": 1581370412392,
     "user": {
      "displayName": "Dr Will닥터윌",
      "photoUrl": "",
      "userId": "09537670203767475450"
     },
     "user_tz": -540
    },
    "id": "XVIvwazrrwVD",
    "outputId": "6b49af60-aa36-44fd-ff7d-ead7574d367a"
   },
   "outputs": [
    {
     "name": "stdout",
     "output_type": "stream",
     "text": [
      "[1, 3, 4, 5, 6]\n"
     ]
    }
   ],
   "source": [
    "a = [1,2,3,4,5,6]\n",
    "a.remove(2) #값을 지움 \n",
    "\n",
    "print(a)"
   ]
  },
  {
   "cell_type": "code",
   "execution_count": 44,
   "metadata": {
    "colab": {
     "base_uri": "https://localhost:8080/",
     "height": 35
    },
    "colab_type": "code",
    "executionInfo": {
     "elapsed": 842,
     "status": "ok",
     "timestamp": 1581370471936,
     "user": {
      "displayName": "Dr Will닥터윌",
      "photoUrl": "",
      "userId": "09537670203767475450"
     },
     "user_tz": -540
    },
    "id": "Iee8u0JVBdxn",
    "outputId": "08851089-6b21-4280-ab37-90908dabfad4"
   },
   "outputs": [
    {
     "name": "stdout",
     "output_type": "stream",
     "text": [
      "[1, 2, 30, 4, 5]\n"
     ]
    }
   ],
   "source": [
    "a = [1,2,30,30,4,5]\n",
    "a.remove(30) # 앞의 값만 지움 \n",
    "\n",
    "print(a) "
   ]
  },
  {
   "cell_type": "markdown",
   "metadata": {
    "colab_type": "text",
    "id": "sRnTsGYJrwVL"
   },
   "source": [
    "+ **pop()**\n",
    "  - 지우고자 하는 아이템을 반환 후, 삭제"
   ]
  },
  {
   "cell_type": "code",
   "execution_count": 19,
   "metadata": {
    "colab": {
     "base_uri": "https://localhost:8080/",
     "height": 35
    },
    "colab_type": "code",
    "executionInfo": {
     "elapsed": 1025,
     "status": "ok",
     "timestamp": 1581370549393,
     "user": {
      "displayName": "Dr Will닥터윌",
      "photoUrl": "",
      "userId": "09537670203767475450"
     },
     "user_tz": -540
    },
    "id": "eQAdZo1BrwVM",
    "outputId": "834d7dea-2fdb-43a6-9e38-517c527d804f"
   },
   "outputs": [
    {
     "name": "stdout",
     "output_type": "stream",
     "text": [
      "[1, 3, 4, 5]\n"
     ]
    }
   ],
   "source": [
    "a = [1,2,3,4,5,]\n",
    "a.pop(1) # index를 지움 \n",
    "\n",
    "print(a)"
   ]
  },
  {
   "cell_type": "code",
   "execution_count": 20,
   "metadata": {
    "colab": {
     "base_uri": "https://localhost:8080/",
     "height": 35
    },
    "colab_type": "code",
    "executionInfo": {
     "elapsed": 928,
     "status": "ok",
     "timestamp": 1581370580369,
     "user": {
      "displayName": "Dr Will닥터윌",
      "photoUrl": "",
      "userId": "09537670203767475450"
     },
     "user_tz": -540
    },
    "id": "mc1x-iAKBtQN",
    "outputId": "734f9252-c30d-428f-dba4-60fd5df8b8a3"
   },
   "outputs": [
    {
     "name": "stdout",
     "output_type": "stream",
     "text": [
      "[1, 2, 3, 4]\n"
     ]
    }
   ],
   "source": [
    "a = [1,2,3,4,5,]\n",
    "a.pop() # 마지막 index 지움 \n",
    "\n",
    "print(a)"
   ]
  },
  {
   "cell_type": "code",
   "execution_count": 22,
   "metadata": {
    "colab": {
     "base_uri": "https://localhost:8080/",
     "height": 35
    },
    "colab_type": "code",
    "executionInfo": {
     "elapsed": 479,
     "status": "ok",
     "timestamp": 1581370626145,
     "user": {
      "displayName": "Dr Will닥터윌",
      "photoUrl": "",
      "userId": "09537670203767475450"
     },
     "user_tz": -540
    },
    "id": "sAT4W0KRCHcM",
    "outputId": "e7051458-3d96-4bdd-a6b9-23ccfda10f38"
   },
   "outputs": [
    {
     "name": "stdout",
     "output_type": "stream",
     "text": [
      "[1, 2]\n",
      "4\n"
     ]
    }
   ],
   "source": [
    "d = a.pop(2) # 삭제하는 값(index2번을) d에 넣음\n",
    "print(a)\n",
    "print(d)"
   ]
  },
  {
   "cell_type": "markdown",
   "metadata": {
    "colab_type": "text",
    "id": "OPZnf_9qrwVO"
   },
   "source": [
    "+ **index()**\n",
    " * 찾고자 하는 값의 인덱스 반환"
   ]
  },
  {
   "cell_type": "code",
   "execution_count": 48,
   "metadata": {
    "colab": {
     "base_uri": "https://localhost:8080/",
     "height": 35
    },
    "colab_type": "code",
    "executionInfo": {
     "elapsed": 942,
     "status": "ok",
     "timestamp": 1581370655753,
     "user": {
      "displayName": "Dr Will닥터윌",
      "photoUrl": "",
      "userId": "09537670203767475450"
     },
     "user_tz": -540
    },
    "id": "MXkPfKAwrwVP",
    "outputId": "613b6473-363b-4622-9b84-17e2fd350b76"
   },
   "outputs": [
    {
     "data": {
      "text/plain": [
       "4"
      ]
     },
     "execution_count": 48,
     "metadata": {
      "tags": []
     },
     "output_type": "execute_result"
    }
   ],
   "source": [
    "a = [2,6,7,8,9,19]\n",
    "\n",
    "a.index(9)"
   ]
  },
  {
   "cell_type": "markdown",
   "metadata": {
    "colab_type": "text",
    "id": "14S_AjXPrwVS"
   },
   "source": [
    "* **in 키워드**\n",
    " + 리스트 내에 해당 값이 존재하는지 확인\n",
    " + value in [list]\n",
    " + True, False 중 한가지로 반환"
   ]
  },
  {
   "cell_type": "code",
   "execution_count": 50,
   "metadata": {
    "colab": {
     "base_uri": "https://localhost:8080/",
     "height": 35
    },
    "colab_type": "code",
    "executionInfo": {
     "elapsed": 819,
     "status": "ok",
     "timestamp": 1581370717258,
     "user": {
      "displayName": "Dr Will닥터윌",
      "photoUrl": "",
      "userId": "09537670203767475450"
     },
     "user_tz": -540
    },
    "id": "ir8h8VJmrwVS",
    "outputId": "8be34438-6b6a-4a56-fac1-f9bc660b28b2",
    "scrolled": true
   },
   "outputs": [
    {
     "name": "stdout",
     "output_type": "stream",
     "text": [
      "True\n"
     ]
    }
   ],
   "source": [
    "a = [1,2,3,4,5,6,7]\n",
    "b = 7 \n",
    "\n",
    "c = b in a \n",
    "print(c)"
   ]
  },
  {
   "cell_type": "code",
   "execution_count": 51,
   "metadata": {
    "colab": {
     "base_uri": "https://localhost:8080/",
     "height": 35
    },
    "colab_type": "code",
    "executionInfo": {
     "elapsed": 592,
     "status": "ok",
     "timestamp": 1581370739517,
     "user": {
      "displayName": "Dr Will닥터윌",
      "photoUrl": "",
      "userId": "09537670203767475450"
     },
     "user_tz": -540
    },
    "id": "Y7-xj0wcrwVX",
    "outputId": "316cc2f2-0c7b-46ae-bba1-e96d61523772"
   },
   "outputs": [
    {
     "name": "stdout",
     "output_type": "stream",
     "text": [
      "False\n"
     ]
    }
   ],
   "source": [
    "b = 10 \n",
    "\n",
    "c= b in a\n",
    "print(c)"
   ]
  },
  {
   "cell_type": "markdown",
   "metadata": {
    "colab_type": "text",
    "id": "yykpS0-VrwVa"
   },
   "source": [
    "* **list 정렬**\n",
    " + sort() -> 리스트 자체를 내부적으로 정렬\n",
    " + sorted() -> 리스트의 정렬된 복사본을 반환"
   ]
  },
  {
   "cell_type": "code",
   "execution_count": 26,
   "metadata": {
    "colab": {
     "base_uri": "https://localhost:8080/",
     "height": 35
    },
    "colab_type": "code",
    "executionInfo": {
     "elapsed": 745,
     "status": "ok",
     "timestamp": 1581370771900,
     "user": {
      "displayName": "Dr Will닥터윌",
      "photoUrl": "",
      "userId": "09537670203767475450"
     },
     "user_tz": -540
    },
    "id": "WvtL-qJHrwVb",
    "outputId": "0869fa66-6526-411a-b54b-fdda6cfc0e56"
   },
   "outputs": [
    {
     "name": "stdout",
     "output_type": "stream",
     "text": [
      "[1, 2, 7, 7, 8, 9, 10, 19, 20]\n"
     ]
    }
   ],
   "source": [
    "a = [9,10,7,19,1,2,20,7,8]\n",
    "a.sort()\n",
    "\n",
    "print(a) #올림차순으로 정렬 "
   ]
  },
  {
   "cell_type": "code",
   "execution_count": 27,
   "metadata": {
    "colab": {
     "base_uri": "https://localhost:8080/",
     "height": 35
    },
    "colab_type": "code",
    "executionInfo": {
     "elapsed": 827,
     "status": "ok",
     "timestamp": 1581370816545,
     "user": {
      "displayName": "Dr Will닥터윌",
      "photoUrl": "",
      "userId": "09537670203767475450"
     },
     "user_tz": -540
    },
    "id": "vNhfgbKGC1cS",
    "outputId": "9d6fa25d-27bc-4398-dd1e-90c4e12a5379"
   },
   "outputs": [
    {
     "name": "stdout",
     "output_type": "stream",
     "text": [
      "[20, 19, 10, 9, 8, 7, 7, 2, 1]\n"
     ]
    }
   ],
   "source": [
    "a.sort(reverse=True)\n",
    "print(a)"
   ]
  },
  {
   "cell_type": "code",
   "execution_count": 28,
   "metadata": {
    "colab": {
     "base_uri": "https://localhost:8080/",
     "height": 54
    },
    "colab_type": "code",
    "executionInfo": {
     "elapsed": 519,
     "status": "ok",
     "timestamp": 1581370867035,
     "user": {
      "displayName": "Dr Will닥터윌",
      "photoUrl": "",
      "userId": "09537670203767475450"
     },
     "user_tz": -540
    },
    "id": "vSjuRDRfDDZa",
    "outputId": "2b1530b5-7261-49e1-e629-e295544d4e58"
   },
   "outputs": [
    {
     "name": "stdout",
     "output_type": "stream",
     "text": [
      "[20, 19, 10, 9, 8, 7, 7, 2, 1]\n",
      "[1, 2, 7, 7, 8, 9, 10, 19, 20]\n"
     ]
    }
   ],
   "source": [
    "b = sorted(a)\n",
    "print(a)\n",
    "print(b)"
   ]
  },
  {
   "cell_type": "markdown",
   "metadata": {
    "colab_type": "text",
    "id": "XeTxEaEQrwVe"
   },
   "source": [
    "### **tuple**\n",
    " - 리스트와 같이 복수개의 값을 갖는 컬렉션 타입\n",
    " - 생성된 후 변경이 불가능"
   ]
  },
  {
   "cell_type": "code",
   "execution_count": 57,
   "metadata": {
    "colab": {
     "base_uri": "https://localhost:8080/",
     "height": 54
    },
    "colab_type": "code",
    "executionInfo": {
     "elapsed": 1045,
     "status": "ok",
     "timestamp": 1581370957925,
     "user": {
      "displayName": "Dr Will닥터윌",
      "photoUrl": "",
      "userId": "09537670203767475450"
     },
     "user_tz": -540
    },
    "id": "LkSjKfkLrwVf",
    "outputId": "413f7278-8e82-4e70-9c7e-af7224911308"
   },
   "outputs": [
    {
     "name": "stdout",
     "output_type": "stream",
     "text": [
      "[1, 2, 3]\n",
      "(1, 2, 3)\n"
     ]
    }
   ],
   "source": [
    "a = [1,2,3]\n",
    "b = (1,2,3)\n",
    "\n",
    "print(a)\n",
    "print(b)"
   ]
  },
  {
   "cell_type": "code",
   "execution_count": 58,
   "metadata": {
    "colab": {
     "base_uri": "https://localhost:8080/",
     "height": 35
    },
    "colab_type": "code",
    "executionInfo": {
     "elapsed": 808,
     "status": "ok",
     "timestamp": 1581370976179,
     "user": {
      "displayName": "Dr Will닥터윌",
      "photoUrl": "",
      "userId": "09537670203767475450"
     },
     "user_tz": -540
    },
    "id": "-HotKZlBDe19",
    "outputId": "834c14c4-6628-4831-b27e-0e5d1b6206a4"
   },
   "outputs": [
    {
     "name": "stdout",
     "output_type": "stream",
     "text": [
      "[100, 2, 3]\n"
     ]
    }
   ],
   "source": [
    "a[0] = 100\n",
    "print(a)"
   ]
  },
  {
   "cell_type": "code",
   "execution_count": 59,
   "metadata": {
    "colab": {
     "base_uri": "https://localhost:8080/",
     "height": 191
    },
    "colab_type": "code",
    "executionInfo": {
     "elapsed": 770,
     "status": "error",
     "timestamp": 1581370992901,
     "user": {
      "displayName": "Dr Will닥터윌",
      "photoUrl": "",
      "userId": "09537670203767475450"
     },
     "user_tz": -540
    },
    "id": "OZzsHKPRDjS_",
    "outputId": "43eb3c6b-6dd2-4817-a281-994b04530d41"
   },
   "outputs": [
    {
     "ename": "TypeError",
     "evalue": "ignored",
     "output_type": "error",
     "traceback": [
      "\u001b[0;31m---------------------------------------------------------------------------\u001b[0m",
      "\u001b[0;31mTypeError\u001b[0m                                 Traceback (most recent call last)",
      "\u001b[0;32m<ipython-input-59-28ae62361e8e>\u001b[0m in \u001b[0;36m<module>\u001b[0;34m()\u001b[0m\n\u001b[0;32m----> 1\u001b[0;31m \u001b[0mb\u001b[0m\u001b[0;34m[\u001b[0m\u001b[0;36m0\u001b[0m\u001b[0;34m]\u001b[0m \u001b[0;34m=\u001b[0m\u001b[0;36m100\u001b[0m\u001b[0;34m\u001b[0m\u001b[0;34m\u001b[0m\u001b[0m\n\u001b[0m\u001b[1;32m      2\u001b[0m \u001b[0mprint\u001b[0m\u001b[0;34m(\u001b[0m\u001b[0mb\u001b[0m\u001b[0;34m)\u001b[0m\u001b[0;34m\u001b[0m\u001b[0;34m\u001b[0m\u001b[0m\n",
      "\u001b[0;31mTypeError\u001b[0m: 'tuple' object does not support item assignment"
     ]
    }
   ],
   "source": [
    "b[0] =100\n",
    "print(b)"
   ]
  },
  {
   "cell_type": "markdown",
   "metadata": {
    "colab_type": "text",
    "id": "yyiG6DvJrwVi"
   },
   "source": [
    "#### **tuple unpacking**\n",
    " - 튜플의 값을 차례대로 변수에 대입"
   ]
  },
  {
   "cell_type": "code",
   "execution_count": 61,
   "metadata": {
    "colab": {
     "base_uri": "https://localhost:8080/",
     "height": 35
    },
    "colab_type": "code",
    "executionInfo": {
     "elapsed": 903,
     "status": "ok",
     "timestamp": 1581371065516,
     "user": {
      "displayName": "Dr Will닥터윌",
      "photoUrl": "",
      "userId": "09537670203767475450"
     },
     "user_tz": -540
    },
    "id": "386yfOparwVj",
    "outputId": "f5b6c396-e66f-40e1-afa7-57942f33bb92"
   },
   "outputs": [
    {
     "data": {
      "text/plain": [
       "tuple"
      ]
     },
     "execution_count": 61,
     "metadata": {
      "tags": []
     },
     "output_type": "execute_result"
    }
   ],
   "source": [
    "a = (100,200)\n",
    "type(a)"
   ]
  },
  {
   "cell_type": "code",
   "execution_count": 62,
   "metadata": {
    "colab": {
     "base_uri": "https://localhost:8080/",
     "height": 35
    },
    "colab_type": "code",
    "executionInfo": {
     "elapsed": 842,
     "status": "ok",
     "timestamp": 1581371084158,
     "user": {
      "displayName": "Dr Will닥터윌",
      "photoUrl": "",
      "userId": "09537670203767475450"
     },
     "user_tz": -540
    },
    "id": "6emMDTeOD4uD",
    "outputId": "718c6a39-b615-4d03-8e4f-401352a57478"
   },
   "outputs": [
    {
     "name": "stdout",
     "output_type": "stream",
     "text": [
      "100 200\n"
     ]
    }
   ],
   "source": [
    "a, b = 100, 200\n",
    "print(a,b)"
   ]
  },
  {
   "cell_type": "markdown",
   "metadata": {
    "colab_type": "text",
    "id": "eChMEVC_rwVo"
   },
   "source": [
    "* **연습문제** a와 b의 값을 교환하시오"
   ]
  },
  {
   "cell_type": "code",
   "execution_count": 63,
   "metadata": {
    "colab": {
     "base_uri": "https://localhost:8080/",
     "height": 35
    },
    "colab_type": "code",
    "executionInfo": {
     "elapsed": 844,
     "status": "ok",
     "timestamp": 1581371140328,
     "user": {
      "displayName": "Dr Will닥터윌",
      "photoUrl": "",
      "userId": "09537670203767475450"
     },
     "user_tz": -540
    },
    "id": "EQQDhUGGrwVs",
    "outputId": "015a6a61-f60c-4909-ec97-83ba60338221"
   },
   "outputs": [
    {
     "name": "stdout",
     "output_type": "stream",
     "text": [
      "5 4\n"
     ]
    }
   ],
   "source": [
    "a = 5\n",
    "b = 4\n",
    "\n",
    "print(a, b)"
   ]
  },
  {
   "cell_type": "code",
   "execution_count": 64,
   "metadata": {
    "colab": {
     "base_uri": "https://localhost:8080/",
     "height": 35
    },
    "colab_type": "code",
    "executionInfo": {
     "elapsed": 1313,
     "status": "ok",
     "timestamp": 1581371218057,
     "user": {
      "displayName": "Dr Will닥터윌",
      "photoUrl": "",
      "userId": "09537670203767475450"
     },
     "user_tz": -540
    },
    "id": "JaESeXcqELhY",
    "outputId": "ed600b31-d36c-4ec2-8c8f-8ac0e02a2356"
   },
   "outputs": [
    {
     "name": "stdout",
     "output_type": "stream",
     "text": [
      "4 5\n"
     ]
    }
   ],
   "source": [
    "temp = a \n",
    "a = b \n",
    "b = temp \n",
    "\n",
    "print(a, b)"
   ]
  },
  {
   "cell_type": "code",
   "execution_count": 65,
   "metadata": {
    "colab": {
     "base_uri": "https://localhost:8080/",
     "height": 35
    },
    "colab_type": "code",
    "executionInfo": {
     "elapsed": 818,
     "status": "ok",
     "timestamp": 1581371241550,
     "user": {
      "displayName": "Dr Will닥터윌",
      "photoUrl": "",
      "userId": "09537670203767475450"
     },
     "user_tz": -540
    },
    "id": "vKhelG8QEf64",
    "outputId": "02860501-0a15-418e-d2ee-92eceaee732b"
   },
   "outputs": [
    {
     "name": "stdout",
     "output_type": "stream",
     "text": [
      "5 4\n"
     ]
    }
   ],
   "source": [
    "a, b = b, a\n",
    "\n",
    "print(a, b)"
   ]
  }
 ],
 "metadata": {
  "colab": {
   "collapsed_sections": [],
   "name": "Chapter 02 -03. 컬렉션 타입의 이해(list, tuple).ipynb",
   "provenance": []
  },
  "kernelspec": {
   "display_name": "Python 3",
   "language": "python",
   "name": "python3"
  },
  "language_info": {
   "codemirror_mode": {
    "name": "ipython",
    "version": 3
   },
   "file_extension": ".py",
   "mimetype": "text/x-python",
   "name": "python",
   "nbconvert_exporter": "python",
   "pygments_lexer": "ipython3",
   "version": "3.7.6"
  }
 },
 "nbformat": 4,
 "nbformat_minor": 1
}
