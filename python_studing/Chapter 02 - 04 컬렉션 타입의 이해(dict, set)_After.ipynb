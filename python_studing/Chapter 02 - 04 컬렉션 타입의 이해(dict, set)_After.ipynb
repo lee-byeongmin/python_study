{
 "cells": [
  {
   "cell_type": "markdown",
   "metadata": {
    "colab_type": "text",
    "id": "gTZVCfkgqNsM"
   },
   "source": [
    "## 학습목표\n",
    " 1. dictionary, set에 대해 이해 및 실습\n"
   ]
  },
  {
   "cell_type": "markdown",
   "metadata": {
    "colab_type": "text",
    "id": "Zn4Ls2r_qNsP"
   },
   "source": [
    "### **dictionary**\n",
    " + 키와 값을 갖는 데이터 구조\n",
    " + 키는 내부적으로 hash값으로 저장\n",
    " + 순서를 따지지 않음. 즉, 인덱스가 없음"
   ]
  },
  {
   "cell_type": "code",
   "execution_count": 16,
   "metadata": {
    "colab": {
     "base_uri": "https://localhost:8080/",
     "height": 35
    },
    "colab_type": "code",
    "executionInfo": {
     "elapsed": 885,
     "status": "ok",
     "timestamp": 1581371364022,
     "user": {
      "displayName": "Dr Will닥터윌",
      "photoUrl": "",
      "userId": "09537670203767475450"
     },
     "user_tz": -540
    },
    "id": "xATy_37zE7dV",
    "outputId": "3751058d-6441-477d-c3d9-78745b750220"
   },
   "outputs": [
    {
     "name": "stdout",
     "output_type": "stream",
     "text": [
      "0\n"
     ]
    }
   ],
   "source": [
    "a = [0,1,2,3,4]\n",
    "\n",
    "print(a[0])"
   ]
  },
  {
   "cell_type": "code",
   "execution_count": 17,
   "metadata": {
    "colab": {
     "base_uri": "https://localhost:8080/",
     "height": 35
    },
    "colab_type": "code",
    "executionInfo": {
     "elapsed": 774,
     "status": "ok",
     "timestamp": 1581371378583,
     "user": {
      "displayName": "Dr Will닥터윌",
      "photoUrl": "",
      "userId": "09537670203767475450"
     },
     "user_tz": -540
    },
    "id": "2ilkj-fyFBtV",
    "outputId": "57a44060-ad6c-4b8f-f8a8-25504df9dc1d"
   },
   "outputs": [
    {
     "name": "stdout",
     "output_type": "stream",
     "text": [
      "4\n"
     ]
    }
   ],
   "source": [
    "print(a[4])"
   ]
  },
  {
   "cell_type": "code",
   "execution_count": 18,
   "metadata": {
    "colab": {
     "base_uri": "https://localhost:8080/",
     "height": 35
    },
    "colab_type": "code",
    "executionInfo": {
     "elapsed": 847,
     "status": "ok",
     "timestamp": 1581371555731,
     "user": {
      "displayName": "Dr Will닥터윌",
      "photoUrl": "",
      "userId": "09537670203767475450"
     },
     "user_tz": -540
    },
    "id": "A97Qk031Fpja",
    "outputId": "28679ac6-869f-4c75-8e88-3bbb4bbca067"
   },
   "outputs": [
    {
     "data": {
      "text/plain": [
       "dict"
      ]
     },
     "execution_count": 18,
     "metadata": {},
     "output_type": "execute_result"
    }
   ],
   "source": [
    "dic = {}\n",
    "type(dic)"
   ]
  },
  {
   "cell_type": "code",
   "execution_count": 19,
   "metadata": {
    "colab": {
     "base_uri": "https://localhost:8080/",
     "height": 35
    },
    "colab_type": "code",
    "executionInfo": {
     "elapsed": 828,
     "status": "ok",
     "timestamp": 1581371511947,
     "user": {
      "displayName": "Dr Will닥터윌",
      "photoUrl": "",
      "userId": "09537670203767475450"
     },
     "user_tz": -540
    },
    "id": "apGzNLsRqNsQ",
    "outputId": "08d63cee-1da8-4a90-8f42-ba311d091d1b"
   },
   "outputs": [
    {
     "name": "stdout",
     "output_type": "stream",
     "text": [
      "{'Korea': 'Seoul', 'Canada': 'Ottawa', 'USA': 'Washington D.C'}\n"
     ]
    }
   ],
   "source": [
    "a = {'Korea': 'Seoul', \n",
    "     'Canada': 'Ottawa', \n",
    "     'USA': 'Washington D.C'}\n",
    "\n",
    "print(a)"
   ]
  },
  {
   "cell_type": "code",
   "execution_count": 22,
   "metadata": {
    "colab": {
     "base_uri": "https://localhost:8080/",
     "height": 35
    },
    "colab_type": "code",
    "executionInfo": {
     "elapsed": 802,
     "status": "ok",
     "timestamp": 1581371612188,
     "user": {
      "displayName": "Dr Will닥터윌",
      "photoUrl": "",
      "userId": "09537670203767475450"
     },
     "user_tz": -540
    },
    "id": "Rq4EFg5CF4oJ",
    "outputId": "19fc8ef0-aeda-4323-fda2-acac9aeaf3cb"
   },
   "outputs": [
    {
     "name": "stdout",
     "output_type": "stream",
     "text": [
      "1\n"
     ]
    }
   ],
   "source": [
    "b = {0:1, 1:6, 7:9, 8:10}\n",
    "print(b[0]) #b[0]은 index가 아님. key 임"
   ]
  },
  {
   "cell_type": "code",
   "execution_count": 23,
   "metadata": {
    "colab": {
     "base_uri": "https://localhost:8080/",
     "height": 173
    },
    "colab_type": "code",
    "executionInfo": {
     "elapsed": 809,
     "status": "error",
     "timestamp": 1581371668779,
     "user": {
      "displayName": "Dr Will닥터윌",
      "photoUrl": "",
      "userId": "09537670203767475450"
     },
     "user_tz": -540
    },
    "id": "HtLgFdfLGImQ",
    "outputId": "f5d7ade2-8734-4519-d9d2-44b218195808"
   },
   "outputs": [
    {
     "name": "stdout",
     "output_type": "stream",
     "text": [
      "6\n"
     ]
    }
   ],
   "source": [
    "print(b[1])"
   ]
  },
  {
   "cell_type": "markdown",
   "metadata": {
    "colab_type": "text",
    "id": "673Pi90cqNsV"
   },
   "source": [
    "+ **항목 추가 및 변경**\n",
    " - 기존에 키가 존재 하면, 새로운 값으로 업데이트\n",
    " - 존재하지 않으면, 새로운 키, 값 생성"
   ]
  },
  {
   "cell_type": "code",
   "execution_count": 24,
   "metadata": {
    "colab": {
     "base_uri": "https://localhost:8080/",
     "height": 35
    },
    "colab_type": "code",
    "executionInfo": {
     "elapsed": 805,
     "status": "ok",
     "timestamp": 1581371757950,
     "user": {
      "displayName": "Dr Will닥터윌",
      "photoUrl": "",
      "userId": "09537670203767475450"
     },
     "user_tz": -540
    },
    "id": "gEnfGu9zqNsW",
    "outputId": "79ba6425-34be-4829-df51-8606311b4929"
   },
   "outputs": [
    {
     "name": "stdout",
     "output_type": "stream",
     "text": [
      "{'Korea': 'Seoul', 'Canada': 'Ottawa', 'USA': 'Washington D.C', 'Japan': 'Kyoto', 'Japan2': 'Kyoto', 'China': 'Beijing'}\n"
     ]
    }
   ],
   "source": [
    "a = {'Korea': 'Seoul', \n",
    "     'Canada': 'Ottawa', \n",
    "     'USA': 'Washington D.C'}\n",
    "\n",
    "a['Japan'] = 'Tokyo'\n",
    "a['Japan'] = 'Kyoto' # 중복이 될 수 없음, update 해버림 \n",
    "a['Japan2'] = 'Kyoto'\n",
    "a['China'] = 'Beijing'\n",
    "\n",
    "print(a)"
   ]
  },
  {
   "cell_type": "markdown",
   "metadata": {
    "colab_type": "text",
    "id": "mZ9inIZ2qNsZ"
   },
   "source": [
    "+ **update()**\n",
    " * 두 딕셔너리를 병합함\n",
    " * 겹치는 키가 있다면 parameter로 전달되는 키 값이 overwrite된다."
   ]
  },
  {
   "cell_type": "code",
   "execution_count": 7,
   "metadata": {
    "colab": {
     "base_uri": "https://localhost:8080/",
     "height": 35
    },
    "colab_type": "code",
    "executionInfo": {
     "elapsed": 817,
     "status": "ok",
     "timestamp": 1581371805603,
     "user": {
      "displayName": "Dr Will닥터윌",
      "photoUrl": "",
      "userId": "09537670203767475450"
     },
     "user_tz": -540
    },
    "id": "LpaR-442qNsb",
    "outputId": "8d5232e1-ee2d-436c-c4d5-d196f4de5967"
   },
   "outputs": [
    {
     "name": "stdout",
     "output_type": "stream",
     "text": [
      "{'a': 2, 'b': 2, 'c': 3, 'd': 4, 'e': 5}\n"
     ]
    }
   ],
   "source": [
    "a = {'a': 1, 'b': 2, 'c' : 3}\n",
    "b = {'a': 2, 'd': 4, 'e': 5}\n",
    "\n",
    "a.update(b)\n",
    "\n",
    "print(a)"
   ]
  },
  {
   "cell_type": "markdown",
   "metadata": {
    "colab_type": "text",
    "id": "wH8f34y_qNsf"
   },
   "source": [
    "* **key삭제**\n",
    " - del 키워드 사용\n",
    " - pop 함수 이용"
   ]
  },
  {
   "cell_type": "code",
   "execution_count": 8,
   "metadata": {
    "colab": {
     "base_uri": "https://localhost:8080/",
     "height": 35
    },
    "colab_type": "code",
    "executionInfo": {
     "elapsed": 887,
     "status": "ok",
     "timestamp": 1581371909259,
     "user": {
      "displayName": "Dr Will닥터윌",
      "photoUrl": "",
      "userId": "09537670203767475450"
     },
     "user_tz": -540
    },
    "id": "ztBr8W5yqNsg",
    "outputId": "6ee1404e-2854-49d1-fc7c-decfd45284b9"
   },
   "outputs": [
    {
     "name": "stdout",
     "output_type": "stream",
     "text": [
      "{'a': 1, 'b': 2, 'c': 3}\n"
     ]
    }
   ],
   "source": [
    "a = {'a': 1, 'b': 2, 'c' : 3}\n",
    "print(a)"
   ]
  },
  {
   "cell_type": "code",
   "execution_count": 9,
   "metadata": {
    "colab": {
     "base_uri": "https://localhost:8080/",
     "height": 35
    },
    "colab_type": "code",
    "executionInfo": {
     "elapsed": 825,
     "status": "ok",
     "timestamp": 1581371921186,
     "user": {
      "displayName": "Dr Will닥터윌",
      "photoUrl": "",
      "userId": "09537670203767475450"
     },
     "user_tz": -540
    },
    "id": "Ga5koVyxHGri",
    "outputId": "c6ceda40-9f4d-419f-8156-b31db1e6e052"
   },
   "outputs": [
    {
     "data": {
      "text/plain": [
       "2"
      ]
     },
     "execution_count": 9,
     "metadata": {},
     "output_type": "execute_result"
    }
   ],
   "source": [
    "a.pop('b') # b를 삭제하고 b의 값을 반환"
   ]
  },
  {
   "cell_type": "code",
   "execution_count": 10,
   "metadata": {
    "colab": {
     "base_uri": "https://localhost:8080/",
     "height": 35
    },
    "colab_type": "code",
    "executionInfo": {
     "elapsed": 1600,
     "status": "ok",
     "timestamp": 1581371944810,
     "user": {
      "displayName": "Dr Will닥터윌",
      "photoUrl": "",
      "userId": "09537670203767475450"
     },
     "user_tz": -540
    },
    "id": "JjuQG4FLHM7O",
    "outputId": "5fb6f6e9-3ece-4bfb-a6a0-57003a772cf1"
   },
   "outputs": [
    {
     "name": "stdout",
     "output_type": "stream",
     "text": [
      "{'a': 1, 'c': 3}\n"
     ]
    }
   ],
   "source": [
    "print(a)"
   ]
  },
  {
   "cell_type": "code",
   "execution_count": 32,
   "metadata": {
    "colab": {
     "base_uri": "https://localhost:8080/",
     "height": 35
    },
    "colab_type": "code",
    "executionInfo": {
     "elapsed": 855,
     "status": "ok",
     "timestamp": 1581372025245,
     "user": {
      "displayName": "Dr Will닥터윌",
      "photoUrl": "",
      "userId": "09537670203767475450"
     },
     "user_tz": -540
    },
    "id": "iZA6k1j7G-MI",
    "outputId": "a4496daf-a1b2-4fc2-9b73-89ec503ab1c7"
   },
   "outputs": [
    {
     "name": "stdout",
     "output_type": "stream",
     "text": [
      "{'a': 1, 'c': 3}\n"
     ]
    }
   ],
   "source": [
    "a = {'a': 1, 'b': 2, 'c' : 3}\n",
    "del a['b'] # 범용적으로 지움\n",
    "print(a)"
   ]
  },
  {
   "cell_type": "markdown",
   "metadata": {
    "colab_type": "text",
    "id": "flmYnZdLqNsk"
   },
   "source": [
    "* **clear()**\n",
    " + 딕셔너리의 모든 값을 초기화\n"
   ]
  },
  {
   "cell_type": "code",
   "execution_count": 34,
   "metadata": {
    "colab": {
     "base_uri": "https://localhost:8080/",
     "height": 54
    },
    "colab_type": "code",
    "executionInfo": {
     "elapsed": 815,
     "status": "ok",
     "timestamp": 1581372030031,
     "user": {
      "displayName": "Dr Will닥터윌",
      "photoUrl": "",
      "userId": "09537670203767475450"
     },
     "user_tz": -540
    },
    "id": "YTI9NpoNqNsn",
    "outputId": "5e1bc5bb-5ab0-4e89-83d3-3ef52843c0e5"
   },
   "outputs": [
    {
     "name": "stdout",
     "output_type": "stream",
     "text": [
      "{}\n",
      "{}\n"
     ]
    }
   ],
   "source": [
    "print(a)\n",
    "a.clear()\n",
    "print(a)"
   ]
  },
  {
   "cell_type": "markdown",
   "metadata": {
    "colab_type": "text",
    "id": "QdQFHHNBqNsq"
   },
   "source": [
    "* **in**\n",
    " + key값 존재 확인\n",
    " + O(1) 연산 - 딕셔너리의 크기와 관계없이 항상 연산의 속도가 일정하다는 의미"
   ]
  },
  {
   "cell_type": "code",
   "execution_count": 35,
   "metadata": {
    "colab": {
     "base_uri": "https://localhost:8080/",
     "height": 54
    },
    "colab_type": "code",
    "executionInfo": {
     "elapsed": 873,
     "status": "ok",
     "timestamp": 1581372126380,
     "user": {
      "displayName": "Dr Will닥터윌",
      "photoUrl": "",
      "userId": "09537670203767475450"
     },
     "user_tz": -540
    },
    "id": "T_JBcWqmHt4G",
    "outputId": "c066da1f-281e-44a7-a3f8-48da7d5b0a95"
   },
   "outputs": [
    {
     "name": "stdout",
     "output_type": "stream",
     "text": [
      "{'a': 1, 'b': 2, 'c': 3}\n"
     ]
    },
    {
     "data": {
      "text/plain": [
       "True"
      ]
     },
     "execution_count": 35,
     "metadata": {},
     "output_type": "execute_result"
    }
   ],
   "source": [
    "a = {'a': 1, 'b': 2, 'c' : 3}\n",
    "\n",
    "print(a)\n",
    "\n",
    "'b' in a # a에 b라는 키가 있는지"
   ]
  },
  {
   "cell_type": "code",
   "execution_count": 36,
   "metadata": {
    "colab": {
     "base_uri": "https://localhost:8080/",
     "height": 35
    },
    "colab_type": "code",
    "executionInfo": {
     "elapsed": 776,
     "status": "ok",
     "timestamp": 1581372128913,
     "user": {
      "displayName": "Dr Will닥터윌",
      "photoUrl": "",
      "userId": "09537670203767475450"
     },
     "user_tz": -540
    },
    "id": "dXvvdHm1H6Uq",
    "outputId": "6c192303-9cd2-4139-a40e-9b92503fe535"
   },
   "outputs": [
    {
     "data": {
      "text/plain": [
       "False"
      ]
     },
     "execution_count": 36,
     "metadata": {},
     "output_type": "execute_result"
    }
   ],
   "source": [
    "'d' in a"
   ]
  },
  {
   "cell_type": "code",
   "execution_count": 37,
   "metadata": {
    "colab": {
     "base_uri": "https://localhost:8080/",
     "height": 54
    },
    "colab_type": "code",
    "executionInfo": {
     "elapsed": 1046,
     "status": "ok",
     "timestamp": 1581372221129,
     "user": {
      "displayName": "Dr Will닥터윌",
      "photoUrl": "",
      "userId": "09537670203767475450"
     },
     "user_tz": -540
    },
    "id": "vYPQuKXYqNsr",
    "outputId": "39b3c99a-e8dc-4e27-b79b-fc61e2e102ab"
   },
   "outputs": [
    {
     "name": "stdout",
     "output_type": "stream",
     "text": [
      "True\n",
      "True\n"
     ]
    }
   ],
   "source": [
    "a = {'a': 1, 'b': 2, 'c' : 3}\n",
    "b = [1, 2, 3, 4, 5, 6, 7, 9, 10, 100]\n",
    "\n",
    "print(100 in b)\n",
    "print('b' in a)  # 성능 차이가 남. "
   ]
  },
  {
   "cell_type": "code",
   "execution_count": 38,
   "metadata": {
    "colab": {
     "base_uri": "https://localhost:8080/",
     "height": 35
    },
    "colab_type": "code",
    "executionInfo": {
     "elapsed": 794,
     "status": "ok",
     "timestamp": 1581372301003,
     "user": {
      "displayName": "Dr Will닥터윌",
      "photoUrl": "",
      "userId": "09537670203767475450"
     },
     "user_tz": -540
    },
    "id": "2uHyAhwEIjqs",
    "outputId": "d9bf5040-aa20-43b8-a25a-35d6611659e0"
   },
   "outputs": [
    {
     "name": "stdout",
     "output_type": "stream",
     "text": [
      "False\n"
     ]
    }
   ],
   "source": [
    "print(2 in a)"
   ]
  },
  {
   "cell_type": "markdown",
   "metadata": {
    "colab_type": "text",
    "id": "AgPWauYTqNsw"
   },
   "source": [
    "* **value access**\n",
    " + dict[key]로 접급, 키가 없는 경우 에러 발생 \n",
    " + .get() 함수로 접근, 키가 없는 경우 None반환"
   ]
  },
  {
   "cell_type": "code",
   "execution_count": 42,
   "metadata": {
    "colab": {
     "base_uri": "https://localhost:8080/",
     "height": 35
    },
    "colab_type": "code",
    "executionInfo": {
     "elapsed": 812,
     "status": "ok",
     "timestamp": 1581372375742,
     "user": {
      "displayName": "Dr Will닥터윌",
      "photoUrl": "",
      "userId": "09537670203767475450"
     },
     "user_tz": -540
    },
    "id": "2fGp0RHoqNs0",
    "outputId": "c0ecd130-0c70-4c97-ed8c-fe4352df1b9e"
   },
   "outputs": [
    {
     "name": "stdout",
     "output_type": "stream",
     "text": [
      "None\n"
     ]
    }
   ],
   "source": [
    "print(a.get('d')) # 프로그램이 죽지 않음 \n",
    "# print(a['d']) "
   ]
  },
  {
   "cell_type": "code",
   "execution_count": 43,
   "metadata": {
    "colab": {},
    "colab_type": "code",
    "id": "OgkHSwbAI1vX"
   },
   "outputs": [],
   "source": [
    "if 'd' in a: # a에 d 값이있으면 d값 출력\n",
    "    print(a['d'])"
   ]
  },
  {
   "cell_type": "markdown",
   "metadata": {
    "colab_type": "text",
    "id": "3_y_rV4cqNs7"
   },
   "source": [
    "#### **모든 keys, values 접근**\n",
    " + keys() - 키만 반환\n",
    " + values() - 값만 반환\n",
    " + items() - 키, 값의 튜플을 반환"
   ]
  },
  {
   "cell_type": "code",
   "execution_count": 44,
   "metadata": {
    "colab": {
     "base_uri": "https://localhost:8080/",
     "height": 108
    },
    "colab_type": "code",
    "executionInfo": {
     "elapsed": 784,
     "status": "ok",
     "timestamp": 1581372457214,
     "user": {
      "displayName": "Dr Will닥터윌",
      "photoUrl": "",
      "userId": "09537670203767475450"
     },
     "user_tz": -540
    },
    "id": "u8TaRACHqNs9",
    "outputId": "50cbbedd-9f04-44c7-f3ed-b0975f03ee17"
   },
   "outputs": [
    {
     "name": "stdout",
     "output_type": "stream",
     "text": [
      "{'a': 1, 'b': 2, 'c': 3}\n",
      "dict_keys(['a', 'b', 'c'])\n",
      "dict_values([1, 2, 3])\n",
      "['a', 'b', 'c']\n",
      "[1, 2, 3]\n"
     ]
    }
   ],
   "source": [
    "print(a)\n",
    "print(a.keys())\n",
    "print(a.values())\n",
    "print(list(a.keys()))\n",
    "print(list(a.values()))"
   ]
  },
  {
   "cell_type": "code",
   "execution_count": 46,
   "metadata": {
    "colab": {
     "base_uri": "https://localhost:8080/",
     "height": 35
    },
    "colab_type": "code",
    "executionInfo": {
     "elapsed": 837,
     "status": "ok",
     "timestamp": 1581372505003,
     "user": {
      "displayName": "Dr Will닥터윌",
      "photoUrl": "",
      "userId": "09537670203767475450"
     },
     "user_tz": -540
    },
    "id": "CMf84yIbI8Q2",
    "outputId": "64cb5715-2e02-48c4-abc7-f395399d9ee6"
   },
   "outputs": [
    {
     "data": {
      "text/plain": [
       "[('a', 1), ('b', 2), ('c', 3)]"
      ]
     },
     "execution_count": 46,
     "metadata": {},
     "output_type": "execute_result"
    }
   ],
   "source": [
    "a.items()\n",
    "list(a.items())"
   ]
  },
  {
   "cell_type": "markdown",
   "metadata": {
    "colab_type": "text",
    "id": "vCaBs_1UqNtP"
   },
   "source": [
    "### **set**\n",
    " + dictionary에서 key만 활용하는 데이터 구조로 이해\n",
    " + 수학에서의 집합과 동일한 개념"
   ]
  },
  {
   "cell_type": "code",
   "execution_count": 49,
   "metadata": {
    "colab": {
     "base_uri": "https://localhost:8080/",
     "height": 35
    },
    "colab_type": "code",
    "executionInfo": {
     "elapsed": 837,
     "status": "ok",
     "timestamp": 1581372525281,
     "user": {
      "displayName": "Dr Will닥터윌",
      "photoUrl": "",
      "userId": "09537670203767475450"
     },
     "user_tz": -540
    },
    "id": "uYNWiIWnqNtf",
    "outputId": "918bbe19-f65d-4637-929d-6b9b69cc5a79"
   },
   "outputs": [
    {
     "name": "stdout",
     "output_type": "stream",
     "text": [
      "{1, 2, 3, 4, 5}\n"
     ]
    }
   ],
   "source": [
    "a = {1, 1, 2, 3, 3, 4, 1, 5}\n",
    "print(a)"
   ]
  },
  {
   "cell_type": "code",
   "execution_count": 50,
   "metadata": {
    "colab": {
     "base_uri": "https://localhost:8080/",
     "height": 173
    },
    "colab_type": "code",
    "executionInfo": {
     "elapsed": 795,
     "status": "error",
     "timestamp": 1581372570623,
     "user": {
      "displayName": "Dr Will닥터윌",
      "photoUrl": "",
      "userId": "09537670203767475450"
     },
     "user_tz": -540
    },
    "id": "aL5EFLvnJlpg",
    "outputId": "6d8c2475-dc55-455d-f528-b3c4ee15492b"
   },
   "outputs": [
    {
     "ename": "TypeError",
     "evalue": "'set' object is not subscriptable",
     "output_type": "error",
     "traceback": [
      "\u001b[0;31m---------------------------------------------------------------------------\u001b[0m",
      "\u001b[0;31mTypeError\u001b[0m                                 Traceback (most recent call last)",
      "\u001b[0;32m<ipython-input-50-97df89d770b5>\u001b[0m in \u001b[0;36m<module>\u001b[0;34m\u001b[0m\n\u001b[0;32m----> 1\u001b[0;31m \u001b[0mprint\u001b[0m\u001b[0;34m(\u001b[0m\u001b[0ma\u001b[0m\u001b[0;34m[\u001b[0m\u001b[0;36m0\u001b[0m\u001b[0;34m]\u001b[0m\u001b[0;34m)\u001b[0m \u001b[0;31m# indexing 이 안된다. 순서가 없다는 의미\u001b[0m\u001b[0;34m\u001b[0m\u001b[0;34m\u001b[0m\u001b[0m\n\u001b[0m",
      "\u001b[0;31mTypeError\u001b[0m: 'set' object is not subscriptable"
     ]
    }
   ],
   "source": [
    "print(a[0]) # indexing 이 안된다. 순서가 없다는 의미 "
   ]
  },
  {
   "cell_type": "markdown",
   "metadata": {
    "colab_type": "text",
    "id": "-vMgBEvjqNtq"
   },
   "source": [
    "* **set()으로 집합으로 변환**"
   ]
  },
  {
   "cell_type": "code",
   "execution_count": 51,
   "metadata": {
    "colab": {
     "base_uri": "https://localhost:8080/",
     "height": 35
    },
    "colab_type": "code",
    "executionInfo": {
     "elapsed": 819,
     "status": "ok",
     "timestamp": 1581372599091,
     "user": {
      "displayName": "Dr Will닥터윌",
      "photoUrl": "",
      "userId": "09537670203767475450"
     },
     "user_tz": -540
    },
    "id": "Ts35GShEqNtt",
    "outputId": "33ff90b6-03b8-44ff-a8c0-e8bfcaa309af"
   },
   "outputs": [
    {
     "name": "stdout",
     "output_type": "stream",
     "text": [
      "[1, 1, 2, 3, 3, 4, 1, 5]\n"
     ]
    }
   ],
   "source": [
    "a = [1, 1, 2, 3, 3, 4, 1, 5]\n",
    "print(a)"
   ]
  },
  {
   "cell_type": "code",
   "execution_count": 52,
   "metadata": {
    "colab": {
     "base_uri": "https://localhost:8080/",
     "height": 35
    },
    "colab_type": "code",
    "executionInfo": {
     "elapsed": 797,
     "status": "ok",
     "timestamp": 1581372613469,
     "user": {
      "displayName": "Dr Will닥터윌",
      "photoUrl": "",
      "userId": "09537670203767475450"
     },
     "user_tz": -540
    },
    "id": "Re_qQzofJsd4",
    "outputId": "6e59927c-25dc-4fd7-a48d-b043fbae6c90"
   },
   "outputs": [
    {
     "name": "stdout",
     "output_type": "stream",
     "text": [
      "{1, 2, 3, 4, 5}\n"
     ]
    }
   ],
   "source": [
    "b = set(a)\n",
    "print(b)"
   ]
  },
  {
   "cell_type": "markdown",
   "metadata": {
    "colab_type": "text",
    "id": "oBDZs1PzqNt1"
   },
   "source": [
    "+ **set operations**\n",
    " - 수학 연산과 동일\n",
    " - 교집합, 합집합, 차집합 등 지원"
   ]
  },
  {
   "cell_type": "code",
   "execution_count": 53,
   "metadata": {
    "colab": {
     "base_uri": "https://localhost:8080/",
     "height": 90
    },
    "colab_type": "code",
    "executionInfo": {
     "elapsed": 877,
     "status": "ok",
     "timestamp": 1581372864147,
     "user": {
      "displayName": "Dr Will닥터윌",
      "photoUrl": "",
      "userId": "09537670203767475450"
     },
     "user_tz": -540
    },
    "id": "GSrFpLpwqNt3",
    "outputId": "f69df42b-b336-4e37-88e4-b18582755e29"
   },
   "outputs": [
    {
     "name": "stdout",
     "output_type": "stream",
     "text": [
      "{1, 2, 3, 4}\n",
      "{2, 3}\n",
      "{1}\n",
      "False\n"
     ]
    }
   ],
   "source": [
    "a = {1, 2, 3}\n",
    "b = {2, 3, 4}\n",
    "\n",
    "print(a.union(b)) # 합집합\n",
    "print(a.intersection(b)) # 교집합\n",
    "print(a.difference(b)) # 차집합\n",
    "print(a.issubset(b)) #부분 집합"
   ]
  },
  {
   "cell_type": "code",
   "execution_count": 54,
   "metadata": {
    "colab": {
     "base_uri": "https://localhost:8080/",
     "height": 35
    },
    "colab_type": "code",
    "executionInfo": {
     "elapsed": 839,
     "status": "ok",
     "timestamp": 1581372936530,
     "user": {
      "displayName": "Dr Will닥터윌",
      "photoUrl": "",
      "userId": "09537670203767475450"
     },
     "user_tz": -540
    },
    "id": "Rq0doSbwK7ve",
    "outputId": "d51431a6-8b3c-42f1-9ae9-0f3c906500f9"
   },
   "outputs": [
    {
     "name": "stdout",
     "output_type": "stream",
     "text": [
      "True\n"
     ]
    }
   ],
   "source": [
    "a = {1, 2, 3}\n",
    "b = {1, 2, 3, 4}\n",
    "\n",
    "print(a.issubset(b)) #부분 집합"
   ]
  },
  {
   "cell_type": "code",
   "execution_count": null,
   "metadata": {},
   "outputs": [],
   "source": []
  }
 ],
 "metadata": {
  "colab": {
   "collapsed_sections": [],
   "name": "Chapter 02 - 04 컬렉션 타입의 이해(dict, set)_After.ipynb",
   "provenance": []
  },
  "kernelspec": {
   "display_name": "Python 3",
   "language": "python",
   "name": "python3"
  },
  "language_info": {
   "codemirror_mode": {
    "name": "ipython",
    "version": 3
   },
   "file_extension": ".py",
   "mimetype": "text/x-python",
   "name": "python",
   "nbconvert_exporter": "python",
   "pygments_lexer": "ipython3",
   "version": "3.7.6"
  }
 },
 "nbformat": 4,
 "nbformat_minor": 1
}
