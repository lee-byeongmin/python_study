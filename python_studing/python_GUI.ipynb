{
 "cells": [
  {
   "cell_type": "markdown",
   "metadata": {},
   "source": [
    "### 기본 프레임"
   ]
  },
  {
   "cell_type": "code",
   "execution_count": 23,
   "metadata": {},
   "outputs": [],
   "source": [
    "from tkinter import * # tkinter = gui\n",
    "# 기본 프레임\n",
    "root = Tk()\n",
    "root.title(\"타이틀 명\")# 타이틀 이름\n",
    "\n",
    "root.geometry(\"680x480+10+50\") # 크기 (가로 * 세로 + x좌표 + y좌표)\n",
    "root.resizable(False, False) # x(너비), y(높이) 값 변경 불가 -> 창크기 변경 불가 \n",
    "\n",
    "root.mainloop()#창이 닫히지 않게"
   ]
  },
  {
   "cell_type": "markdown",
   "metadata": {},
   "source": [
    "### 버튼"
   ]
  },
  {
   "cell_type": "code",
   "execution_count": 8,
   "metadata": {},
   "outputs": [],
   "source": [
    "from tkinter import * # tkinter = gui\n",
    "# Button\n",
    "root = Tk()\n",
    "root.title(\"타이틀 명\")# 타이틀 이름\n",
    "\n",
    "\n",
    "btn1 = Button(root, text=\"버튼1\")\n",
    "btn1.pack()\n",
    "\n",
    "# padx = 좌우 길이 pady = 높낮이 길이\n",
    "btn2 = Button(root, padx=15, pady=10, text=\"버튼2\")\n",
    "btn2.pack()\n",
    "btn3 = Button(root, padx=10, pady=5, text=\"버튼3\")\n",
    "btn3.pack()\n",
    "\n",
    "# 가로 세로 길이 지정\n",
    "btn4 = Button(root, width=10, height=3, text=\"버튼4\")\n",
    "btn4.pack()\n",
    "# 버튼2의 방법은 text의 크기를 늘리면 버튼의 크기가 늘어남\n",
    "# 하지만 버튼4의 방법은 text크기가 초과하면 글자가 작아지거나 칸에서 넘어감 (즉, 고정값)\n",
    "\n",
    "btn5 = Button(root, fg=\"red\", bg=\"blue\", text=\"버튼5\")\n",
    "btn5.pack() # 글자색, 배경색\n",
    "\n",
    "# photo = PhotoImage(file=\"/Users/bm/Desktop/jpt/img/xicon.png\")\n",
    "# btn6 = Button(root, image = photo)\n",
    "# btn6.pack()\n",
    "\n",
    "def btncmd():\n",
    "    print(\"버튼이 클릭 되었습니다.\")\n",
    "btn7 = Button (root, text=\"동작하는 버튼\", command=btncmd)\n",
    "btn7.pack()\n",
    "# 클릭시 btncmd함수 실행\n",
    "\n",
    "\n",
    "root.mainloop()#창이 닫히지 않게"
   ]
  },
  {
   "cell_type": "markdown",
   "metadata": {},
   "source": [
    "### 라벨"
   ]
  },
  {
   "cell_type": "code",
   "execution_count": null,
   "metadata": {},
   "outputs": [],
   "source": [
    "from tkinter import * # tkinter = gui\n",
    "# Label\n",
    "root = Tk()\n",
    "root.title(\"타이틀 명\")# 타이틀 이름\n",
    "\n",
    "label1 = Label(root, text= \"안녕하세요\")\n",
    "label1.pack()\n",
    "\n",
    "# photo = PhotoImage(file = \"파일주소\")\n",
    "# label2 = Label(root, image=photo)\n",
    "# label2.pack()\n",
    "\n",
    "def change():\n",
    "    label1.config(text = \"change함수\") # label1의 text를 'change함수'로 변경\n",
    "    \n",
    "    #global = photo2\n",
    "    #만약 그림을 바꾸는 함수를 지정할경우 글로벌 변수로 지정해주어야 한다.\n",
    "    \n",
    "btn =Button(root, text = \"클릭\", command=change)\n",
    "btn.pack()\n",
    "# 'btn' 클릭시 change함수 실행\n",
    "\n",
    "\n",
    "\n",
    "root.mainloop()#창이 닫히지 않게"
   ]
  },
  {
   "cell_type": "markdown",
   "metadata": {},
   "source": [
    "### 텍스트 위젯"
   ]
  },
  {
   "cell_type": "code",
   "execution_count": 1,
   "metadata": {
    "scrolled": false
   },
   "outputs": [],
   "source": [
    "from tkinter import * # tkinter = gui\n",
    "# 텍스트 위젯\n",
    "root = Tk()\n",
    "root.title(\"타이틀 명\")# 타이틀 이름\n",
    "root.geometry(\"680x480\") # 크기 (가로 * 세로)\n",
    "\n",
    "\n",
    "txt= Text(root, width=30, height=5) # 텍스트 입력값\n",
    "txt.pack()\n",
    "txt.insert(END, \"글자를 입력하세요\") # 미리 입력된 값\n",
    "\n",
    "e = Entry(root, width=30) # enrty는 한줄만 가능\n",
    "e.pack()\n",
    "e.insert(0, \"한 줄만 입력하세요\")\n",
    "\n",
    "def btncmd():\n",
    "    # 내용 출력\n",
    "    print(txt.get(\"1.0\"),END) #처음부터 끝까지 텍스트를 가져오는거 ('1': 라인1부터, '0': 컬럼 기준0번째)\n",
    "    print(e.get())\n",
    "    \n",
    "    #내용 삭제\n",
    "    txt.delete(\"1.0\", END)\n",
    "    e.delete(0, END)\n",
    "    \n",
    "btn = Button(root, text=\"클릭\", command=btncmd)\n",
    "btn.pack()\n",
    "\n",
    "\n",
    "root.mainloop()#창이 닫히지 않게"
   ]
  },
  {
   "cell_type": "markdown",
   "metadata": {},
   "source": [
    "### 리스트 박스"
   ]
  },
  {
   "cell_type": "code",
   "execution_count": null,
   "metadata": {},
   "outputs": [],
   "source": [
    "from tkinter import * # tkinter = gui\n",
    "# 리스트 박스\n",
    "root = Tk()\n",
    "root.title(ㅠ\"타이틀 명\")# 타이틀 이름\n",
    "root.geometry(\"680x480\") # 크기 (가로 * 세로)\n",
    "\n",
    "listbox = Listbox(root, selectmode=\"extended\",height=0)\n",
    "listbox.insert(0,\"사과\")\n",
    "listbox.insert(1,\"딸기\")\n",
    "listbox.insert(2,\"바나나\")\n",
    "listbox.insert(END,\"수박\")\n",
    "listbox.insert(END,\"포도\")\n",
    "listbox.pack()\n",
    "\n",
    "def btndel():\n",
    "    listbox.delete(END) # END : 맨뒤에값 삭제, 0: 맨 앞에값 삭제\n",
    "\n",
    "def btnsize():\n",
    "    print(\"리스트에는\",listbox.size(),\"개가 있습니다.\")# 리스트박스의 개수 출력\n",
    "    \n",
    "def btnchk():\n",
    "    print(\"1번째부터 3번째까지의 항목 : \",listbox.get(0,2)) # 0번~2번까지 출력\n",
    "    \n",
    "def btnselect(): # 선택된 항목 출력\n",
    "    print(\"선태된 항목 : \", listbox.curselection()) # 인덱스(몇 번지인지)로 출력\n",
    "    \n",
    "btn1 = Button(root, text=\"del\", command=btndel)\n",
    "btn1.pack()\n",
    "btn2 = Button(root, text=\"size\", command=btnsize)\n",
    "btn2.pack()\n",
    "btn3 = Button(root, text=\"chk\", command=btnchk)\n",
    "btn3.pack()\n",
    "btn4 = Button(root, text=\"select\", command=btnselect)\n",
    "btn4.pack()\n",
    "\n",
    "root.mainloop()#창이 닫히지 않게"
   ]
  },
  {
   "cell_type": "code",
   "execution_count": null,
   "metadata": {},
   "outputs": [],
   "source": [
    "### 체크 박스"
   ]
  },
  {
   "cell_type": "code",
   "execution_count": 3,
   "metadata": {},
   "outputs": [],
   "source": [
    "from tkinter import * # tkinter = gui\n",
    "# 체크 박스\n",
    "root = Tk()\n",
    "root.title(\"타이틀 명\")# 타이틀 이름\n",
    "root.geometry(\"680x480\") # 크기 (가로 * 세로)\n",
    "\n",
    "chkvar = IntVar() # chkvar 에 int 형으로 값을 저장\n",
    "chkbox = Checkbutton(root, text=\"체크 박스\",variable=chkvar)\n",
    "chkbox.select() # 자동 선택 처리\n",
    "chkbox.deselect() # 선택 해제 처리\n",
    "chkbox.pack()\n",
    "\n",
    "chkvar2 = IntVar()\n",
    "chkbox2 = Checkbutton(root, text=\"\", variable=chkvar2)\n",
    "chkbox2.pack()\n",
    "\n",
    "def btncmd():\n",
    "    print(chkvar.get()) # 출력값이 0:체크해제됨, 1: 체크됨\n",
    "    print(chkvar2.get())\n",
    "btn = Button(root, text=\"클릭\", command=btncmd)\n",
    "btn.pack()\n",
    "\n",
    "root.mainloop()#창이 닫히지 않게"
   ]
  },
  {
   "cell_type": "markdown",
   "metadata": {},
   "source": [
    "### 라디오 박스"
   ]
  },
  {
   "cell_type": "code",
   "execution_count": 1,
   "metadata": {},
   "outputs": [
    {
     "name": "stdout",
     "output_type": "stream",
     "text": [
      "1\n",
      "콜라\n"
     ]
    }
   ],
   "source": [
    "from tkinter import * # tkinter = gui\n",
    "# 라디오 박스\n",
    "root = Tk()\n",
    "root.title(\"타이틀 명\")# 타이틀 이름\n",
    "root.geometry(\"680x480\") # 크기 (가로 * 세로)\n",
    "\n",
    "Label(root, text=\"메뉴를 선택하시요\").pack()\n",
    "\n",
    "menu_var = IntVar() # MENU_VAR값으로 묶어서 하나만 선택가능\n",
    "btn_menu1 = Radiobutton(root, text=\"햄버거\",value=1,variable=menu_var)\n",
    "btn_menu1.select() # 기본 선택\n",
    "btn_menu2 = Radiobutton(root, text=\"치킨\",value=2,variable=menu_var)\n",
    "btn_menu3 = Radiobutton(root, text=\"피자\",value=3,variable=menu_var)\n",
    "\n",
    "btn_menu1.pack()\n",
    "btn_menu2.pack()\n",
    "btn_menu3.pack()\n",
    "\n",
    "\n",
    "Label(root, text=\"음료를 선택하시요\").pack()\n",
    "\n",
    "drink_var = StringVar() # MENU_VAR값으로 묶어서 하나만 선택가능\n",
    "btn_drink1 = Radiobutton(root, text=\"콜라\",value=\"콜라\",variable=drink_var)\n",
    "btn_drink1.select() # 기본 선택\n",
    "btn_drink2 = Radiobutton(root, text=\"사이다\",value=\"사이다\",variable=drink_var)\n",
    "\n",
    "btn_drink1.pack()\n",
    "btn_drink2.pack()\n",
    "\n",
    "\n",
    "\n",
    "def btncmd():\n",
    "    print(menu_var.get()) # menu의 선택된 값(value)를 출력\n",
    "    print(drink_var.get()) # drink의 선택된 값(value)를 출력\n",
    "    \n",
    "btn = Button(root, text=\"주문\", command=btncmd)\n",
    "btn.pack()\n",
    "\n",
    "root.mainloop()#창이 닫히지 않게"
   ]
  },
  {
   "cell_type": "markdown",
   "metadata": {},
   "source": [
    "### 콤보 박스"
   ]
  },
  {
   "cell_type": "code",
   "execution_count": 1,
   "metadata": {},
   "outputs": [],
   "source": [
    "from tkinter import * # tkinter = gui\n",
    "import tkinter.ttk as ttk # 콤보박스\n",
    "\n",
    "# 콤보 박스\n",
    "root = Tk()\n",
    "root.title(\"타이틀 명\")# 타이틀 이름\n",
    "root.geometry(\"680x480\") # 크기 (가로 * 세로)\n",
    "    \n",
    "values = [str(i)+\"일\" for i in range(1, 32)] # 1~31까지 숫자\n",
    "combobox = ttk.Combobox(root, height=5, values=values, state=\"readonly\")\n",
    "                    #state값이 readonly면 읽기 전용으로 콤보박스에 다른값을 못넣음\n",
    "combobox.pack()  \n",
    "# combobox.set(\"카드 결제일\") # 최초 목록 재목 설정\n",
    "combobox.current(0) # 0번째 인덱스값이 선택되어있음\n",
    "\n",
    "def btncmd():\n",
    "    print(combobox.get())\n",
    "    \n",
    "    \n",
    "btn = Button(root, text=\"클릭\", command=btncmd)\n",
    "btn.pack()\n",
    "\n",
    "root.mainloop()#창이 닫히지 않게"
   ]
  },
  {
   "cell_type": "markdown",
   "metadata": {},
   "source": [
    "### 프로그래스 바"
   ]
  },
  {
   "cell_type": "code",
   "execution_count": 7,
   "metadata": {},
   "outputs": [],
   "source": [
    "from tkinter import * # tkinter = gui\n",
    "import tkinter.ttk as ttk\n",
    "\n",
    "# 프로그래스 바 1 \n",
    "root = Tk()\n",
    "root.title(\"타이틀 명\")# 타이틀 이름\n",
    "root.geometry(\"680x480\") # 크기 (가로 * 세로)\n",
    "    \n",
    "# mode에서 indeterminate: 바가 왔다갔다, determinate: 처음부터 끝까지는 가는바\n",
    "progressbar = ttk.Progressbar(root, maximum=100, mode= \"determinate\")\n",
    "progressbar.start() # 괄호의 숫자 (ms) 만큼 움직임\n",
    "progressbar.pack()\n",
    "    \n",
    "    \n",
    "def btncmd():\n",
    "    progressbar.stop() # 작동 중지\n",
    "    \n",
    "    \n",
    "btn = Button(root, text=\"중지\", command=btncmd)\n",
    "btn.pack()\n",
    "\n",
    "root.mainloop()#창이 닫히지 않게"
   ]
  },
  {
   "cell_type": "code",
   "execution_count": 13,
   "metadata": {},
   "outputs": [],
   "source": [
    "from tkinter import * # tkinter = gui\n",
    "import tkinter.ttk as ttk\n",
    "import time\n",
    "\n",
    "# 프로그래스 바 2\n",
    "root = Tk()\n",
    "root.title(\"타이틀 명\")# 타이틀 이름\n",
    "root.geometry(\"680x480\") # 크기 (가로 * 세로)\n",
    "    \n",
    "p_var2 = DoubleVar()\n",
    "progressbar2 = ttk.Progressbar(root, maximum=100,length=150, variable=p_var2)\n",
    "progressbar2.pack()\n",
    "    \n",
    "    \n",
    "def btncmd2():\n",
    "    for i in range(101):\n",
    "        time.sleep(0.01)\n",
    "        p_var2.set(i)\n",
    "        progressbar2.update()  # for문마다 GUI업데이트\n",
    "                               # 만약 없이 하면 for문이 다돌고 나온값이 출력됨\n",
    "        print(p_var2.get())\n",
    "        \n",
    "btn = Button(root, text=\"시작\", command=btncmd2)\n",
    "btn.pack()\n",
    "\n",
    "root.mainloop()#창이 닫히지 않게"
   ]
  },
  {
   "cell_type": "markdown",
   "metadata": {},
   "source": [
    "### 메뉴"
   ]
  },
  {
   "cell_type": "code",
   "execution_count": 1,
   "metadata": {},
   "outputs": [],
   "source": [
    "from tkinter import * # tkinter = gui\n",
    "import tkinter.ttk as ttk\n",
    "import time\n",
    "\n",
    "# 메뉴\n",
    "root = Tk()\n",
    "root.title(\"타이틀 명\")# 타이틀 이름\n",
    "root.geometry(\"680x480+10+50\") # 크기 (가로 * 세로)\n",
    "\n",
    "def Create_new_file():\n",
    "    print(\"새 파일을 만듭니다.\")\n",
    "\n",
    "menu = Menu(root) \n",
    "\n",
    "\n",
    "#FILE MENU\n",
    "menu_file = Menu(menu, tearoff=0)\n",
    "menu_file.add_command(label=\"New File\", command=Create_new_file)\n",
    "menu_file.add_command(label=\"New window\")\n",
    "menu_file.add_separator() # 구분자\n",
    "menu_file.add_command(label=\"open File...\")\n",
    "menu_file.add_separator()\n",
    "menu_file.add_command(label=\"save All\", state=\"disable\") #disable : 비활성화\n",
    "menu_file.add_separator()\n",
    "menu_file.add_command(label=\"Exit\", command=root.quit) # 종료 설정\n",
    "\n",
    "menu.add_cascade(label=\"File\", menu=menu_file)\n",
    "\n",
    "# EDITE MENU\n",
    "menu.add_cascade(label=\"Edit\")\n",
    "\n",
    "# LANGUAGE MENU 라디오 버튼을 통해서 택1하게\n",
    "menu_lang = Menu(menu,tearoff=0)\n",
    "menu_lang.add_radiobutton(label=\"Python\")\n",
    "menu_lang.add_radiobutton(label=\"Java\")\n",
    "menu_lang.add_radiobutton(label=\"C++\")\n",
    "menu.add_cascade(label=\"Language\", menu=menu_lang)\n",
    "\n",
    "# VIEW MENU\n",
    "menu_view = Menu(menu,tearoff=0)\n",
    "menu_view.add_checkbutton(label=\"Show Minimap\")\n",
    "menu_view.add_checkbutton(label=\"Show\")\n",
    "menu.add_cascade(label=\"View\", menu=menu_view)\n",
    "\n",
    "\n",
    "root.config(menu=menu)\n",
    "\n",
    "root.mainloop()#창이 닫히지 않게"
   ]
  },
  {
   "cell_type": "markdown",
   "metadata": {},
   "source": [
    "### 메시지 박스"
   ]
  },
  {
   "cell_type": "code",
   "execution_count": null,
   "metadata": {},
   "outputs": [],
   "source": [
    "from tkinter import * # tkinter = gui\n",
    "import tkinter.messagebox as msgbox\n",
    "# 메시지 박스\n",
    "root = Tk()\n",
    "root.title(\"타이틀 명\")# 타이틀 이름\n",
    "root.geometry(\"680x480+10+50\") # 크기 (가로 * 세로 + x좌표 + y좌표)\n",
    "\n",
    "# 예메 시스템이라고 가정\n",
    "def info():\n",
    "    msgbox.showinfo(\"알림\", \"정상적으로 예매 완료 되었습니다.\")\n",
    "\n",
    "def warn():\n",
    "    msgbox.showwarning(\"경고\",\"모두 매진되었습니다.\")\n",
    "\n",
    "def error():\n",
    "    msgbox.showerror(\"에러\", \"오류가 발생했습니다\")\n",
    "    \n",
    "def okcancel():\n",
    "    msgbox.askokcancel(\"확인/취소\", \"해당 좌석은 을 예메 하시겠습니까\")\n",
    "    \n",
    "def retrycancel():\n",
    "    msgbox.askretrycancel(\"재시도/취소\", \"일시적인 오류 입니다. 다시 시도 하겠습니까?\")\n",
    "    \n",
    "def yesno():\n",
    "    msgbox.askyesno(\"예/아니오\", \"해당좌석은 역방향입니다. 예매하시겟습니까?\")\n",
    "\n",
    "def yesnocacenl():\n",
    "    msgbox.askyesnocancel(title=None, message=\"예매 내역이 저장되지 않았습니다. \\n저장후 종료하세겠습니까?\")\n",
    "    # 네 : 저장 후 종료\n",
    "    # 아니요 : 저장하지 않고 종료\n",
    "    # 취소 : 프로그램 종료 취소(현재 화면에서 계속 작업\n",
    "    print(\"응답: \", response) # ture=1, false=0 그외\n",
    "    if response == 1:\n",
    "        print(\"예\")\n",
    "    elif response == 0:\n",
    "        print(\"아니요\")\n",
    "    else:\n",
    "        print(\"취소\")\n",
    "    \n",
    "    \n",
    "Button(root, command=info, text=\"알림\").pack()\n",
    "Button(root, command=warn, text=\"경고\").pack()\n",
    "Button(root, command=error, text=\"에러\").pack()\n",
    "Button(root, command=okcancel, text=\"확인 취소\").pack()\n",
    "Button(root, command=retrycancel, text=\"재시도 취소\").pack()\n",
    "Button(root, command=yesno, text=\"예 아니오\").pack()\n",
    "Button(root, command=yesnocacenl, text=\"예 아니오 취소\").pack()\n",
    "\n",
    "root.mainloop()#창이 닫히지 않게"
   ]
  },
  {
   "cell_type": "markdown",
   "metadata": {},
   "source": [
    "### 프레임"
   ]
  },
  {
   "cell_type": "code",
   "execution_count": 2,
   "metadata": {},
   "outputs": [],
   "source": [
    "from tkinter import * # tkinter = gui\n",
    "# 프레임\n",
    "root = Tk()\n",
    "root.title(\"타이틀 명\")# 타이틀 이름\n",
    "root.geometry(\"680x480+10+50\") # 크기 (가로 * 세로 + x좌표 + y좌표)\n",
    "\n",
    "Label(root, text= \"메뉴를 선택해 주세요\").pack(side=\"top\")\n",
    "\n",
    "Button(root, text=\"주문하기\").pack(side=\"bottom\")\n",
    "                               \n",
    "frame_burger = Frame(root, relief=\"solid\", bd=1)\n",
    "frame_burger.pack(side=\"left\", fill=\"both\", expand=True)\n",
    "    # both : 꽉 채움 expand=true는 중간까지 옥[\n",
    "Button(frame_burger, text=\"햄버거\").pack()\n",
    "Button(frame_burger, text=\"치즈버거\").pack()\n",
    "Button(frame_burger, text=\"치킨버거\").pack()\n",
    "\n",
    "\n",
    "frame_drink = LabelFrame(root, text=\"음료\")\n",
    "frame_drink.pack(side=\"right\", fill=\"both\", expand=True)\n",
    "\n",
    "Button(frame_drink, text=\"콜라\").pack()\n",
    "Button(frame_drink, text=\"사이다\").pack()\n",
    "\n",
    "\n",
    "root.mainloop()#창이 닫히지 않게"
   ]
  },
  {
   "cell_type": "markdown",
   "metadata": {},
   "source": [
    "### 스크롤바"
   ]
  },
  {
   "cell_type": "code",
   "execution_count": null,
   "metadata": {},
   "outputs": [],
   "source": [
    "from tkinter import * # tkinter = gui\n",
    "# 스크롤 바\n",
    "root = Tk()\n",
    "root.title(\"타이틀 명\")# 타이틀 이름\n",
    "root.geometry(\"680x480+10+50\") # 크기 (가로 * 세로 + x좌표 + y좌표)\n",
    "\n",
    "frame = Frame(root)\n",
    "frame.pack()\n",
    "\n",
    "scrollbar = Scrollbar(frame)\n",
    "scrollbar.pack(side=\"right\", fill=\"y\") # fill해야 크기 맞게됨\n",
    "\n",
    "listbox = Listbox(frame, selectmode=\"extended\", height=10, yscrollcommand = scrollbar.set)\n",
    "for i in range(1,32):\n",
    "    listbox.insert(END, str(i) +\"일\")\n",
    "listbox.pack(side=\"left\")\n",
    "\n",
    "scrollbar.config(command = listbox.yview)\n",
    "\n",
    "root.mainloop()#창이 닫히지 않게"
   ]
  },
  {
   "cell_type": "markdown",
   "metadata": {},
   "source": [
    "### 그리드 기본"
   ]
  },
  {
   "cell_type": "code",
   "execution_count": 40,
   "metadata": {},
   "outputs": [],
   "source": [
    "from tkinter import * # tkinter = gui\n",
    "# 그리드 기본\n",
    "root = Tk()\n",
    "root.title(\"타이틀 명\")# 타이틀 이름\n",
    "root.geometry(\"680x480+10+50\") # 크기 (가로 * 세로 + x좌표 + y좌표)\n",
    "\n",
    "btn1 = Button(root, text=\"버튼1\")\n",
    "btn2 = Button(root, text=\"버튼2\")\n",
    "\n",
    "btn1.grid(row=0, column=0) # 0,0 위치\n",
    "btn2.grid(row=1, column=1) # 1,1 위치\n",
    "\n",
    "root.mainloop()#창이 닫히지 않게"
   ]
  },
  {
   "cell_type": "markdown",
   "metadata": {},
   "source": [
    "### 그리드 심화"
   ]
  },
  {
   "cell_type": "code",
   "execution_count": 3,
   "metadata": {},
   "outputs": [
    {
     "ename": "KeyboardInterrupt",
     "evalue": "",
     "output_type": "error",
     "traceback": [
      "\u001b[0;31m---------------------------------------------------------------------------\u001b[0m",
      "\u001b[0;31mKeyboardInterrupt\u001b[0m                         Traceback (most recent call last)",
      "\u001b[0;32m<ipython-input-3-35dc558b5085>\u001b[0m in \u001b[0;36m<module>\u001b[0;34m\u001b[0m\n\u001b[1;32m     26\u001b[0m \u001b[0;34m\u001b[0m\u001b[0m\n\u001b[1;32m     27\u001b[0m \u001b[0;34m\u001b[0m\u001b[0m\n\u001b[0;32m---> 28\u001b[0;31m \u001b[0mroot\u001b[0m\u001b[0;34m.\u001b[0m\u001b[0mmainloop\u001b[0m\u001b[0;34m(\u001b[0m\u001b[0;34m)\u001b[0m\u001b[0;31m#창이 닫히지 않게\u001b[0m\u001b[0;34m\u001b[0m\u001b[0;34m\u001b[0m\u001b[0m\n\u001b[0m",
      "\u001b[0;32m/opt/anaconda3/lib/python3.7/tkinter/__init__.py\u001b[0m in \u001b[0;36mmainloop\u001b[0;34m(self, n)\u001b[0m\n\u001b[1;32m   1281\u001b[0m     \u001b[0;32mdef\u001b[0m \u001b[0mmainloop\u001b[0m\u001b[0;34m(\u001b[0m\u001b[0mself\u001b[0m\u001b[0;34m,\u001b[0m \u001b[0mn\u001b[0m\u001b[0;34m=\u001b[0m\u001b[0;36m0\u001b[0m\u001b[0;34m)\u001b[0m\u001b[0;34m:\u001b[0m\u001b[0;34m\u001b[0m\u001b[0;34m\u001b[0m\u001b[0m\n\u001b[1;32m   1282\u001b[0m         \u001b[0;34m\"\"\"Call the mainloop of Tk.\"\"\"\u001b[0m\u001b[0;34m\u001b[0m\u001b[0;34m\u001b[0m\u001b[0m\n\u001b[0;32m-> 1283\u001b[0;31m         \u001b[0mself\u001b[0m\u001b[0;34m.\u001b[0m\u001b[0mtk\u001b[0m\u001b[0;34m.\u001b[0m\u001b[0mmainloop\u001b[0m\u001b[0;34m(\u001b[0m\u001b[0mn\u001b[0m\u001b[0;34m)\u001b[0m\u001b[0;34m\u001b[0m\u001b[0;34m\u001b[0m\u001b[0m\n\u001b[0m\u001b[1;32m   1284\u001b[0m     \u001b[0;32mdef\u001b[0m \u001b[0mquit\u001b[0m\u001b[0;34m(\u001b[0m\u001b[0mself\u001b[0m\u001b[0;34m)\u001b[0m\u001b[0;34m:\u001b[0m\u001b[0;34m\u001b[0m\u001b[0;34m\u001b[0m\u001b[0m\n\u001b[1;32m   1285\u001b[0m         \u001b[0;34m\"\"\"Quit the Tcl interpreter. All widgets will be destroyed.\"\"\"\u001b[0m\u001b[0;34m\u001b[0m\u001b[0;34m\u001b[0m\u001b[0m\n",
      "\u001b[0;31mKeyboardInterrupt\u001b[0m: "
     ]
    }
   ],
   "source": [
    "from tkinter import * # tkinter = gui\n",
    "# 그리드 심화\n",
    "root = Tk()\n",
    "root.title(\"타이틀 명\")# 타이틀 이름\n",
    "root.geometry(\"680x480+10+50\") # 크기 (가로 * 세로 + x좌표 + y좌표)\n",
    "\n",
    "# padx, pady 박스 크기 조절\n",
    "# width,height로 고정값으로 조절 가능\n",
    "btn1 = Button(root, text=\"버튼1\", padx=10, pady=10)\n",
    "btn2 = Button(root, text=\"버튼2\", padx=10, pady=10)\n",
    "btn3 = Button(root, text=\"3\", padx=10, pady=10)\n",
    "\n",
    "btn4 = Button(root, text=\"4\", padx=10, pady=10)\n",
    "btn5 = Button(root, text=\"크기 맞춤용 3\", padx=10, pady=10)\n",
    "btn6 = Button(root, text=\"크기 맞춤용 4\", padx=10, pady=10)\n",
    "\n",
    "# 그리드에서는 padx, pady 양옆 간격 조절\n",
    "btn1.grid(row=0, column=0, sticky=N+E+W+S, padx=3, pady=3) \n",
    "btn2.grid(row=0, column=1, sticky=N+E+W+S, padx=3, pady=3) \n",
    "btn3.grid(row=0, column=2, sticky=N+E+W+S, padx=3, pady=3) \n",
    "btn4.grid(row=1, column=0, sticky=N+E+W+S, padx=3, pady=3)\n",
    "btn5.grid(row=1, column=1, sticky=N+E+W+S, padx=3, pady=3) \n",
    "btn6.grid(row=1, column=2, sticky=N+E+W+S, padx=3, pady=3)\n",
    "\n",
    "# sticky사용시 (n북, e동, w서, s남) 설정값에따라 그곳으로 붙음\n",
    "\n",
    "\n",
    "root.mainloop()#창이 닫히지 않게"
   ]
  },
  {
   "cell_type": "code",
   "execution_count": null,
   "metadata": {},
   "outputs": [],
   "source": []
  },
  {
   "cell_type": "code",
   "execution_count": null,
   "metadata": {},
   "outputs": [],
   "source": []
  },
  {
   "cell_type": "code",
   "execution_count": null,
   "metadata": {},
   "outputs": [],
   "source": []
  },
  {
   "cell_type": "code",
   "execution_count": null,
   "metadata": {},
   "outputs": [],
   "source": [
    "from tkinter import * # tkinter = gui\n",
    "# 그리드 기본\n",
    "root = Tk()\n",
    "root.title(\"타이틀 명\")# 타이틀 이름\n",
    "root.geometry(\"680x480+10+50\") # 크기 (가로 * 세로 + x좌표 + y좌표)\n",
    "\n",
    "btn\n",
    "\n",
    "\n",
    "\n",
    "\n",
    "\n",
    "root.mainloop()#창이 닫히지 않게"
   ]
  },
  {
   "cell_type": "code",
   "execution_count": null,
   "metadata": {},
   "outputs": [],
   "source": [
    "from tkinter import * # tkinter = gui\n",
    "# 그리드 기본\n",
    "root = Tk()\n",
    "root.title(\"타이틀 명\")# 타이틀 이름\n",
    "root.geometry(\"680x480+10+50\") # 크기 (가로 * 세로 + x좌표 + y좌표)\n",
    "\n",
    "btn\n",
    "\n",
    "\n",
    "\n",
    "\n",
    "\n",
    "root.mainloop()#창이 닫히지 않게"
   ]
  }
 ],
 "metadata": {
  "kernelspec": {
   "display_name": "Python 3",
   "language": "python",
   "name": "python3"
  },
  "language_info": {
   "codemirror_mode": {
    "name": "ipython",
    "version": 3
   },
   "file_extension": ".py",
   "mimetype": "text/x-python",
   "name": "python",
   "nbconvert_exporter": "python",
   "pygments_lexer": "ipython3",
   "version": "3.7.6"
  }
 },
 "nbformat": 4,
 "nbformat_minor": 4
}
