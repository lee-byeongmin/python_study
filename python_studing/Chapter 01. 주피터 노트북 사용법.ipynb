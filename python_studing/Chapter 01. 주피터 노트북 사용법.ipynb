{
 "cells": [
  {
   "cell_type": "markdown",
   "metadata": {},
   "source": [
    "# Hellow Python\n",
    "## Hellow Python \n",
    "### Hellow Python\n"
   ]
  },
  {
   "cell_type": "code",
   "execution_count": 5,
   "metadata": {},
   "outputs": [
    {
     "name": "stdout",
     "output_type": "stream",
     "text": [
      "10\n"
     ]
    }
   ],
   "source": [
    "a = 10\n",
    "print(a)\n"
   ]
  },
  {
   "cell_type": "markdown",
   "metadata": {},
   "source": [
    "**Python** is really *cool*\n",
    "- Python\n",
    "  - Numpy\n",
    "  - Pandas\n",
    "- Java\n",
    "\n",
    "\n",
    "\n",
    "1. Python \n",
    "2. Java\n",
    "\n",
    "> 파이선 좋아\n",
    "\n",
    "y=3x\n",
    "\n",
    "$y = 3x$\n",
    "\n",
    "```python\n",
    "a = 10\n",
    "print(a)\n",
    "```\n",
    "\n",
    "drwill.kr\n",
    "\n",
    "[닥터윌BD GURU](https://drwill.modoo.at/)"
   ]
  }
 ],
 "metadata": {
  "kernelspec": {
   "display_name": "Python 3",
   "language": "python",
   "name": "python3"
  },
  "language_info": {
   "codemirror_mode": {
    "name": "ipython",
    "version": 3
   },
   "file_extension": ".py",
   "mimetype": "text/x-python",
   "name": "python",
   "nbconvert_exporter": "python",
   "pygments_lexer": "ipython3",
   "version": "3.6.5"
  }
 },
 "nbformat": 4,
 "nbformat_minor": 2
}
