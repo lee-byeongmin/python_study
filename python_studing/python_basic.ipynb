{
 "cells": [
  {
   "cell_type": "markdown",
   "metadata": {},
   "source": [
    "# 파이썬 기초"
   ]
  },
  {
   "cell_type": "markdown",
   "metadata": {},
   "source": [
    "### 쥬피터 단축키"
   ]
  },
  {
   "cell_type": "markdown",
   "metadata": {},
   "source": [
    "- a : 위에 추가\n",
    "- b : 아래에 추가\n",
    "- dd : 셀 삭제\n",
    "- m : 마크다운으로 변경\n",
    "- y : 코드로 변경\n",
    "- l : 줄번호 보이기\n",
    "- shift + enter : 코드 실행\n",
    "- control + / : 선택 줄 주석 처리"
   ]
  },
  {
   "cell_type": "code",
   "execution_count": null,
   "metadata": {},
   "outputs": [],
   "source": []
  },
  {
   "cell_type": "markdown",
   "metadata": {},
   "source": [
    "### boolean자료형"
   ]
  },
  {
   "cell_type": "code",
   "execution_count": 10,
   "metadata": {},
   "outputs": [
    {
     "name": "stdout",
     "output_type": "stream",
     "text": [
      "True\n",
      "False\n",
      "False\n",
      "True\n",
      "True\n"
     ]
    }
   ],
   "source": [
    "print(True)\n",
    "print(False)\n",
    "print(not True)\n",
    "print(not False)\n",
    "print(not (5 > 10))"
   ]
  },
  {
   "cell_type": "markdown",
   "metadata": {},
   "source": [
    "### 숫차 처리 함수"
   ]
  },
  {
   "cell_type": "code",
   "execution_count": 14,
   "metadata": {},
   "outputs": [
    {
     "name": "stdout",
     "output_type": "stream",
     "text": [
      "5\n",
      "16\n",
      "12\n",
      "5\n",
      "3\n",
      "5\n",
      "4\n",
      "4\n",
      "4.0\n"
     ]
    }
   ],
   "source": [
    "print(abs(-5)) # 5\n",
    "print(pow(4,2)) # 4^2 = 4*4 = 16\n",
    "print(max(5, 12)) # 12\n",
    "print(min(5, 12)) # 5\n",
    "print(round(3.14)) # 3  반올림\n",
    "print(round(4.99)) # 5\n",
    "\n",
    "from math import *\n",
    "print(floor(4.99)) # 4  내림\n",
    "print(ceil(3.14)) # 4  올림\n",
    "print(sqrt(16)) # 4  제곱근\n"
   ]
  },
  {
   "cell_type": "markdown",
   "metadata": {},
   "source": [
    "### 랜덤 함수"
   ]
  },
  {
   "cell_type": "code",
   "execution_count": 23,
   "metadata": {
    "scrolled": false
   },
   "outputs": [
    {
     "name": "stdout",
     "output_type": "stream",
     "text": [
      "0.78820664711411\n",
      "8.717759315081633\n",
      "6\n",
      "20\n",
      "28\n"
     ]
    }
   ],
   "source": [
    "from random import *\n",
    "\n",
    "print(random()) # 0.0 ~ 1.0 미만의 임의의 값 생성\n",
    "print(random()*10) # 0.0 ~ 10.0 미만의 임의의 값 생성\n",
    "print(int(random()*10)) # 0.0 ~ 10.0 미만의 임의의 값 생성  실수값이 아닌 정수값만 출력\n",
    "\n",
    "print(randrange(1,46)) # 1 ~ 46 미만의 임의의 값 생성\n",
    "\n",
    "print(randint(1, 45)) # 1 ~ 45 이하의 임의의 값 생성"
   ]
  },
  {
   "cell_type": "markdown",
   "metadata": {},
   "source": [
    "###  문자열"
   ]
  },
  {
   "cell_type": "code",
   "execution_count": 27,
   "metadata": {},
   "outputs": [
    {
     "name": "stdout",
     "output_type": "stream",
     "text": [
      "기본 입니다\n",
      "기본2 입니다\n",
      "\n",
      "기본 3이\n",
      "문자열 입니다.\n",
      "\n"
     ]
    }
   ],
   "source": [
    "basic1 = '기본 입니다'\n",
    "print(basic1)\n",
    "basic2 = \"기본2 입니다\"\n",
    "print(basic2)\n",
    "basic3 =  \"\"\"\n",
    "기본 3이\n",
    "문자열 입니다.\n",
    "\"\"\"\n",
    "print(basic3)"
   ]
  },
  {
   "cell_type": "markdown",
   "metadata": {},
   "source": [
    "### 슬라이싱"
   ]
  },
  {
   "cell_type": "code",
   "execution_count": 34,
   "metadata": {},
   "outputs": [
    {
     "name": "stdout",
     "output_type": "stream",
     "text": [
      "성별 : 1\n",
      "연 : 96\n",
      "월 : 05\n",
      "일 : 31\n",
      "생년월일 : 960531\n",
      "뒤 7자리 : 1234567\n",
      "뒤 7자리(뒷자리부터): 1234567\n"
     ]
    }
   ],
   "source": [
    "jumin = \"960531-1234567\"\n",
    "print(\"성별 : \" + jumin[7])\n",
    "print(\"연 : \" + jumin[0:2]) # 0 부터 2직전까지\n",
    "print(\"월 : \" + jumin[2:4]) # 2 부터 4직전까지\n",
    "print(\"일 : \" + jumin[4:6]) # 4 부터 6직전까지\n",
    "\n",
    "print(\"생년월일 : \" + jumin[:6]) # 처음 부터 6직전까지\n",
    "print(\"뒤 7자리 : \" + jumin[7:]) # 7 부터 끝까지\n",
    "\n",
    "print(\"뒤 7자리(뒷자리부터): \" + jumin[-7:]) # -7 부터 끝까지\n",
    "# 맨 뒤에서 7번째 끝까지 (-값이 뒤에서부터 셈)"
   ]
  },
  {
   "cell_type": "markdown",
   "metadata": {},
   "source": [
    "### 문자열 처리 함수"
   ]
  },
  {
   "cell_type": "code",
   "execution_count": 43,
   "metadata": {},
   "outputs": [
    {
     "name": "stdout",
     "output_type": "stream",
     "text": [
      "i want money\n",
      "I WANT MONEY\n",
      "True\n",
      "12\n",
      "I want Coin\n",
      "4\n",
      "9\n",
      "4\n",
      "2\n"
     ]
    }
   ],
   "source": [
    "student = \"I want Money\"\n",
    "print(student.lower()) # 소문자로 출력\n",
    "print(student.upper()) # 대문자로 출력\n",
    "print(student[0].isupper()) # 0번째 위치의 대문자가 맞는지 출력 (T or F)\n",
    "print(len(student)) # 문자 길이\n",
    "print(student.replace(\"Money\", \"Coin\"))\n",
    "\n",
    "index = student.index(\"n\")\n",
    "print(index) # index 값 찾기\n",
    "index = student.index(\"n\", index + 1)\n",
    "print(index) # index 두번째 값 찾기\n",
    "\n",
    "print(student.find(\"n\")) # 원하는 값 찾기\n",
    "# 만약 원하는 값이 없으면 -1 값을 반환함\n",
    "# index는 값이 없으면 error >> 그럼 뒤에 있는 코드가 실행이 안됨\n",
    "\n",
    "print(student.count(\"n\")) # n 글자가 몇번 나왓는지\n"
   ]
  },
  {
   "cell_type": "markdown",
   "metadata": {},
   "source": [
    "### 문자열 포맷"
   ]
  },
  {
   "cell_type": "code",
   "execution_count": 55,
   "metadata": {},
   "outputs": [
    {
     "name": "stdout",
     "output_type": "stream",
     "text": [
      "나는 20살 입니다.\n",
      "나는 파이썬을 좋아해요.\n",
      "APPLE은 A로 시작해요\n",
      "나는 파란색과 빨간색을 좋아해요\n",
      "나는 20살입니다.\n",
      "나는 파란색과 빨간색을 좋아해요\n",
      "나는 빨간색과 파란색을 좋아해요\n",
      "나는 20살이며, 빨간색을 좋아해요\n",
      "나는 20살이며, 빨간색을 좋아해요\n"
     ]
    }
   ],
   "source": [
    "print(\"나는 %d살 입니다.\" % 20) # 정수\n",
    "print(\"나는 %s을 좋아해요.\" % \"파이썬\") # 문자열\n",
    "print(\"APPLE은 %c로 시작해요\" % \"A\") # 문자 한글자만 받음\n",
    "print(\"나는 %s색과 %s색을 좋아해요\" % (\"파란\", \"빨간\"))\n",
    "\n",
    "print(\"나는 {}살입니다.\". format(20))\n",
    "print(\"나는 {}색과 {}색을 좋아해요\".format(\"파란\", \"빨간\"))\n",
    "print(\"나는 {1}색과 {0}색을 좋아해요\".format(\"파란\", \"빨간\"))\n",
    "print(\"나는 {age}살이며, {color}색을 좋아해요\".format(age =20, color =\"빨간\"))\n",
    "\n",
    "age = 20\n",
    "color = \"빨간\"\n",
    "print(f\"나는 {age}살이며, {color}색을 좋아해요\") # 앞에 f를 사용 하면 실제 변수 사용"
   ]
  },
  {
   "cell_type": "markdown",
   "metadata": {},
   "source": [
    "### 탈출 문자"
   ]
  },
  {
   "cell_type": "code",
   "execution_count": 59,
   "metadata": {},
   "outputs": [
    {
     "name": "stdout",
     "output_type": "stream",
     "text": [
      "백문이 불여일견 \n",
      " 백견이 불여일타\n",
      "저는 \"나도 코딩\"입니다.\n",
      "\\\n",
      "Red Apple\r",
      "Pine\n",
      "Red Applee\b\n",
      "Red\tAPPLE\n"
     ]
    }
   ],
   "source": [
    "print(\"백문이 불여일견 \\n 백견이 불여일타\")\n",
    "# \\n : 줄바꿈\n",
    "\n",
    "print(\"저는 \\\"나도 코딩\\\"입니다.\")\n",
    "# print문 안에 \"\"을 두번 사용하면 중간에 끊김 >> \\\"내용/\" 방식으로 사용\n",
    "\n",
    "print(\"\\\\\")\n",
    "# \\\\ >> \\로 바뀜\n",
    "\n",
    "print(\"Red Apple\\rPine\")\n",
    "# \\r : 커서 이동\n",
    "\n",
    "print(\"Red Applee\\b\")\n",
    "# \\b (백스페이스) : 한글자 삭제\n",
    "\n",
    "print(\"Red\\tAPPLE\")\n",
    "# \\t : tab넣은 효과"
   ]
  },
  {
   "cell_type": "markdown",
   "metadata": {},
   "source": [
    "### 리스트"
   ]
  },
  {
   "cell_type": "code",
   "execution_count": 82,
   "metadata": {
    "scrolled": true
   },
   "outputs": [
    {
     "name": "stdout",
     "output_type": "stream",
     "text": [
      "[10, 20, 30, 40]\n",
      "['HELLO', 'WORLD', 'PYTHON']\n",
      "2\n",
      "['HELLO', 'WORLD', 'PYTHON', 'CODING']\n",
      "['HELLO', 'ADD', 'WORLD', 'PYTHON', 'CODING']\n",
      "CODING\n",
      "['HELLO', 'ADD', 'WORLD', 'PYTHON']\n",
      "1\n",
      "[1, 2, 3, 4, 5, 6]\n",
      "[6, 5, 4, 3, 2, 1]\n",
      "[]\n",
      "['str', 10, True]\n",
      "['HELLO', 'ADD', 'WORLD', 'PYTHON', 'str', 10, True]\n"
     ]
    }
   ],
   "source": [
    "num = [10,20,30,40]\n",
    "print(num)\n",
    "\n",
    "test_list = [\"HELLO\", \"WORLD\", \"PYTHON\"]\n",
    "print(test_list)\n",
    "\n",
    "print(test_list.index(\"PYTHON\"))\n",
    "# 몇 번째 있는지 찾기\n",
    "\n",
    "test_list.append(\"CODING\")\n",
    "print(test_list)\n",
    "# 마지막 칸에 추가\n",
    "\n",
    "test_list.insert(1, \"ADD\")\n",
    "print(test_list)\n",
    "\n",
    "print(test_list.pop()) # 마지막 삭제\n",
    "print(test_list)\n",
    "\n",
    "print(test_list.count(\"ADD\")) # 몇번 나오는지 찾기\n",
    "\n",
    "num_list = [5,3,6,4,2,1] # 순서대로 정렬\n",
    "num_list.sort()\n",
    "print(num_list)\n",
    "\n",
    "num_list.reverse() # 역 정렬\n",
    "print(num_list)\n",
    "\n",
    "num_list.clear() # 리스트 초기화\n",
    "print(num_list) \n",
    " \n",
    "mix_list = [\"str\", 10, True] # 여러 타입과 같이 사용 가능\n",
    "print(mix_list) \n",
    "\n",
    "test_list.extend(mix_list) # 리스트 합치기\n",
    "print(test_list)"
   ]
  },
  {
   "cell_type": "markdown",
   "metadata": {},
   "source": [
    "### 사전"
   ]
  },
  {
   "cell_type": "code",
   "execution_count": 108,
   "metadata": {},
   "outputs": [
    {
     "name": "stdout",
     "output_type": "stream",
     "text": [
      "python\n",
      "python\n",
      "None\n",
      "값이 없습니다.\n",
      "True\n",
      "False\n",
      "first\n",
      "second\n",
      "{'A-1': 'first', 'B-100': 'second'}\n",
      "{'A-1': 'first', 'B-100': 'second', 'c-20': 'add&change'}\n",
      "{'B-100': 'second', 'c-20': 'add&change'}\n",
      "dict_keys(['B-100', 'c-20'])\n",
      "dict_values(['second', 'add&change'])\n",
      "dict_items([('B-100', 'second'), ('c-20', 'add&change')])\n",
      "{}\n"
     ]
    }
   ],
   "source": [
    "dic = {1:\"python\",100:\"java\"}\n",
    "print(dic[1])\n",
    "\n",
    "print(dic.get(1))\n",
    "print(dic.get(5)) # 값이 없으면 None\n",
    "# print(dic.get[5]) # 값이 없으면 error\n",
    "print(dic.get(5,\"값이 없습니다.\")) #값이 없으면 \"\"사이의 값 가져옴\n",
    "\n",
    "print(1 in dic) # TRUE\n",
    "print(3 in dic) # FALSE\n",
    "\n",
    "dic_str ={\"A-1\":\"first\", \"B-100\":\"second\"} # 문자로도 지정가능\n",
    "print(dic_str[\"A-1\"])\n",
    "print(dic_str[\"B-100\"])\n",
    "\n",
    "print(dic_str)\n",
    "dic_str[\"c-20\"] = \"add&change\" # 값을 없으면 추가하고 있으면 바꿈\n",
    "print(dic_str)\n",
    "\n",
    "del dic_str[\"A-1\"] # 값 삭제\n",
    "print(dic_str)\n",
    "\n",
    "print(dic_str.keys()) # 현재 키 출력\n",
    "print(dic_str.values()) # 값만 출력\n",
    "\n",
    "print(dic_str.items()) # 키, 값 모두 출력\n",
    "\n",
    "dic_str.clear() # 값 초기화\n",
    "print(dic_str)"
   ]
  },
  {
   "cell_type": "markdown",
   "metadata": {},
   "source": [
    "### 튜플"
   ]
  },
  {
   "cell_type": "code",
   "execution_count": 111,
   "metadata": {},
   "outputs": [
    {
     "name": "stdout",
     "output_type": "stream",
     "text": [
      "돼지고기\n",
      "치킨 20000\n"
     ]
    }
   ],
   "source": [
    "# 리스트와 다르게 내용 변경이나 추가가 안됨\n",
    "# 속도가 리스트 보단 빠름\n",
    "# 변경x인 목록에 사용됨\n",
    "\n",
    "menu = (\"소고기\",\"돼지고기\")\n",
    "print(menu[1])\n",
    "\n",
    "name, price = \"치킨\",20000\n",
    "print(name, price)"
   ]
  },
  {
   "cell_type": "markdown",
   "metadata": {},
   "source": [
    "### 세트 "
   ]
  },
  {
   "cell_type": "code",
   "execution_count": 121,
   "metadata": {},
   "outputs": [
    {
     "name": "stdout",
     "output_type": "stream",
     "text": [
      "{1, 2, 3}\n",
      "{'lee'}\n",
      "{'lee'}\n",
      "{'one', 'kim', 'lee', 'choi'}\n",
      "{'one', 'kim', 'lee', 'choi'}\n",
      "{'kim', 'choi'}\n",
      "{'kim', 'choi'}\n",
      "{'one', 'add', 'lee'}\n",
      "{'lee', 'choi'}\n"
     ]
    }
   ],
   "source": [
    "# 집합 (set)\n",
    "# 중복 안됨, 순서없음\n",
    "\n",
    "my_set = {1,2,3,3,3}\n",
    "print(my_set)\n",
    "\n",
    "java = {\"lee\", \"kim\", \"choi\"}\n",
    "python = set([\"lee\",\"one\"])\n",
    "\n",
    "# 교집합 \n",
    "print(java & python)\n",
    "print(java.intersection(python))\n",
    "\n",
    "# 합집합\n",
    "print(java | python)\n",
    "print(java.union(python))\n",
    "\n",
    "# 차집합\n",
    "print(java- python)\n",
    "print(java.difference(python))\n",
    "\n",
    "python.add(\"add\")\n",
    "print(python)\n",
    "\n",
    "java.remove(\"kim\")\n",
    "print(java)"
   ]
  },
  {
   "cell_type": "markdown",
   "metadata": {},
   "source": [
    "### 자료 구조 변경"
   ]
  },
  {
   "cell_type": "code",
   "execution_count": 125,
   "metadata": {},
   "outputs": [
    {
     "name": "stdout",
     "output_type": "stream",
     "text": [
      "{'커피', '주스', '우유'} <class 'set'>\n",
      "['커피', '주스', '우유'] <class 'list'>\n"
     ]
    }
   ],
   "source": [
    "menu = {\"커피\", \"우유\",\"주스\"}\n",
    "print(menu, type(menu))\n",
    "\n",
    "menu = list(menu) # type을 list 변환\n",
    "print(menu, type(menu))\n",
    "\n",
    "menu = tuple(menu) # type을 tuple 변환\n",
    "print(menu, type(menu))"
   ]
  },
  {
   "cell_type": "markdown",
   "metadata": {},
   "source": [
    "### if"
   ]
  },
  {
   "cell_type": "code",
   "execution_count": 126,
   "metadata": {},
   "outputs": [
    {
     "name": "stdout",
     "output_type": "stream",
     "text": [
      "우산을 챙기세요.\n"
     ]
    }
   ],
   "source": [
    "weather = \"비\"\n",
    "# weather = input(\"오늘 날씨 어때요\")\n",
    "if weather==\"비\":\n",
    "    print(\"우산을 챙기세요.\")\n",
    "elif weather == \"미세먼지\":\n",
    "    print(\"마스크를 챙기세요.\")\n",
    "else:\n",
    "    print(\"준비할 것이 없습니다.\")"
   ]
  },
  {
   "cell_type": "markdown",
   "metadata": {},
   "source": [
    "### for"
   ]
  },
  {
   "cell_type": "code",
   "execution_count": 170,
   "metadata": {},
   "outputs": [
    {
     "name": "stdout",
     "output_type": "stream",
     "text": [
      "0\n",
      "1\n",
      "2\n",
      "3\n",
      "4\n",
      "대기번호 : 0\n",
      "대기번호 : 1\n",
      "대기번호 : 2\n",
      "대기번호 : 3\n",
      "대기번호 : 4\n",
      "one\n",
      "two\n",
      "three\n"
     ]
    }
   ],
   "source": [
    "#for waiting in [0,1,2,3,4]:\n",
    "#    print(\"대기번호 : {0}\".format(waiting)\n",
    "    \n",
    "for i in range(0, 5):\n",
    "    print(i)\n",
    "  \n",
    "for waiting2 in range(0,5):\n",
    "    print(\"대기번호 : {0}\".format(waiting2))\n",
    "    \n",
    "test_list = ['one', 'two', 'three'] \n",
    "for i in test_list: \n",
    "    print(i)"
   ]
  },
  {
   "cell_type": "markdown",
   "metadata": {},
   "source": [
    "### while "
   ]
  },
  {
   "cell_type": "code",
   "execution_count": 169,
   "metadata": {},
   "outputs": [
    {
     "name": "stdout",
     "output_type": "stream",
     "text": [
      "lee, 커피가 나왔습니다\n",
      "lee, 커피가 나왔습니다\n",
      "lee, 커피가 나왔습니다\n",
      "lee, 커피가 나왔습니다\n",
      "lee, 커피가 나왔습니다\n",
      "커피가 폐기 되었습니다.\n"
     ]
    }
   ],
   "source": [
    "test = \"lee\"\n",
    "index = 5\n",
    "while index >= 1:\n",
    "    print(\"{0}, 커피가 나왔습니다\".format(test, index))\n",
    "    index -= 1\n",
    "    if index ==0:\n",
    "        print(\"커피가 폐기 되었습니다.\")\n",
    "\n",
    "# 무한 루프 코드        \n",
    "#test2 = \"kim\"\n",
    "#index =1\n",
    "#while True:\n",
    "#    print(\"{0}, 커피가 나왔습니다\".format(test, index))\n",
    "#    index -= 1\n",
    "\n"
   ]
  },
  {
   "cell_type": "markdown",
   "metadata": {},
   "source": [
    "### continue, break"
   ]
  },
  {
   "cell_type": "code",
   "execution_count": 176,
   "metadata": {},
   "outputs": [
    {
     "name": "stdout",
     "output_type": "stream",
     "text": [
      "1, 테스트\n",
      "3, 테스트\n",
      "4, 테스트\n",
      "6, 테스트\n",
      "end. 7\n"
     ]
    }
   ],
   "source": [
    "absent = [2,5] # 결석\n",
    "no_book = [7]\n",
    "for student in range(1,11):\n",
    "    if student in absent:\n",
    "        continue\n",
    "    elif student in no_book:\n",
    "        print(\"end. {0}\".format(student))\n",
    "        break\n",
    "    print(\"{0}, 테스트\".format(student))"
   ]
  },
  {
   "cell_type": "markdown",
   "metadata": {},
   "source": [
    "### 함수 "
   ]
  },
  {
   "cell_type": "code",
   "execution_count": 177,
   "metadata": {},
   "outputs": [
    {
     "name": "stdout",
     "output_type": "stream",
     "text": [
      "새로운 계좌가 생성 되었습니다.\n"
     ]
    }
   ],
   "source": [
    "def open_account():\n",
    "    print(\"새로운 계좌가 생성 되었습니다.\")\n",
    "    \n",
    "open_account()"
   ]
  },
  {
   "cell_type": "code",
   "execution_count": 185,
   "metadata": {},
   "outputs": [
    {
     "name": "stdout",
     "output_type": "stream",
     "text": [
      "입금이 완료 되었습니다. 잔액은 1000원 입니다.\n",
      "출금이 완료되지 않았습니다. 잔액은 1000원 입니다.\n",
      "출금이 완료 되었습니다 잔액은 0원 입니다.\n",
      "0\n"
     ]
    }
   ],
   "source": [
    "def deposit(balacne, money):\n",
    "    print(\"입금이 완료 되었습니다. 잔액은 {0}원 입니다.\".format(balance + money))\n",
    "    return balance + money\n",
    "\n",
    "def withdraw(balance, money):\n",
    "    if balance >= money:\n",
    "        print(\"출금이 완료 되었습니다 잔액은 {0}원 입니다.\"\\\n",
    "              .format(balance - money))\n",
    "        return balance - money\n",
    "    else :\n",
    "        print(\"출금이 완료되지 않았습니다. 잔액은 {0}원 입니다.\"\\\n",
    "              .format(balance))\n",
    "        return balance\n",
    "        \n",
    "balance = 0 # 잔액\n",
    "balance = deposit(balance, 1000)\n",
    "balance = withdraw(balance, 2000)\n",
    "balance = withdraw(balance, 1000)\n",
    "\n",
    "print(balance)\n",
    "    "
   ]
  },
  {
   "cell_type": "code",
   "execution_count": null,
   "metadata": {},
   "outputs": [],
   "source": [
    "### 지역변수 전역변수"
   ]
  },
  {
   "cell_type": "code",
   "execution_count": 198,
   "metadata": {},
   "outputs": [
    {
     "name": "stdout",
     "output_type": "stream",
     "text": [
      "전체 gun :10\n",
      "ret함수내 남은 gun : 8\n",
      "남은 gun : 8\n"
     ]
    }
   ],
   "source": [
    "gun = 10\n",
    "\n",
    "def chk(sol):\n",
    "    global gun # 전역 변수 설정\n",
    "    gun = gun - sol\n",
    "    print(\"함수내 남은 gun : {0}\".format(gun))\n",
    "    \n",
    "def chk_ret(gun,sol):\n",
    "    gun = gun - sol\n",
    "    print(\"ret함수내 남은 gun : {0}\".format(gun))\n",
    "    return gun\n",
    "\n",
    "print(\"전체 gun :{0}\".format(gun))\n",
    "gun = chk_ret(gun, 2)\n",
    "print(\"남은 gun : {0}\".format(gun))"
   ]
  },
  {
   "cell_type": "markdown",
   "metadata": {},
   "source": [
    "### 표준 입출력"
   ]
  },
  {
   "cell_type": "code",
   "execution_count": 204,
   "metadata": {},
   "outputs": [
    {
     "name": "stdout",
     "output_type": "stream",
     "text": [
      "python vs java vs javascript?대기번호 : 001\n",
      "대기번호 : 002\n",
      "대기번호 : 003\n",
      "대기번호 : 004\n",
      "대기번호 : 005\n",
      "대기번호 : 006\n",
      "대기번호 : 007\n",
      "대기번호 : 008\n",
      "대기번호 : 009\n",
      "대기번호 : 010\n",
      "아무 값이나 입력하세요 :100\n",
      "입력값 : 100입니다\n",
      "<class 'str'>\n"
     ]
    }
   ],
   "source": [
    "print(\"python\",\"java\", \"javascript\",sep=\" vs \", end=\"?\")\n",
    "\n",
    "for num in range(1,11):\n",
    "    print(\"대기번호 : \" + str(num).zfill(3)) # zfill : 값이 없는 공간 채우기 \n",
    "    \n",
    "# 표준 입력\n",
    "answer = input(\"아무 값이나 입력하세요 :\")\n",
    "print(\"입력값 : \" + answer + \"입니다\")\n",
    "print(type(answer))\n",
    "# 사용자 입력으로 받으면 문자 형태로만 받는다"
   ]
  },
  {
   "cell_type": "markdown",
   "metadata": {},
   "source": [
    "### 다양한 출력 포맷"
   ]
  },
  {
   "cell_type": "code",
   "execution_count": 215,
   "metadata": {},
   "outputs": [
    {
     "name": "stdout",
     "output_type": "stream",
     "text": [
      "       500\n",
      "      +500\n",
      "      -500\n",
      "+500______\n",
      "100,000,000\n",
      "-100,000,000\n",
      "1.67\n"
     ]
    }
   ],
   "source": [
    "print(\"{0: >10}\".format(500))\n",
    "# 빈 자리는 빈공간을 두고, 오른쪽 정렬을 하되, 총 10자리를 확보\n",
    "\n",
    "print(\"{0: >+10}\".format(500))\n",
    "print(\"{0: >+10}\".format(-500))\n",
    "# 양수일 때 +, 음수일땐 -로 표시\n",
    "\n",
    "print(\"{0:_<+10}\".format(500))\n",
    "# 왼쪽 정렬하고, 빈칸으로 _로 채움\n",
    "\n",
    "print(\"{0:,}\".format(100000000))\n",
    "# 3자리 마다 콤마 찍기\n",
    "\n",
    "print(\"{0:+,}\".format(-100000000))\n",
    "# 3자리 마다 콤마 찍기 + 양수,음수 표시가능\n",
    "\n",
    "print(\"{0:.2f}\".format(5/3)) # 소수점 3번째서 반올림\n",
    "# 소수점 특정 자리수 까지만 표시"
   ]
  },
  {
   "cell_type": "markdown",
   "metadata": {},
   "source": [
    "### 파일 입출력"
   ]
  },
  {
   "cell_type": "code",
   "execution_count": 233,
   "metadata": {},
   "outputs": [
    {
     "name": "stdout",
     "output_type": "stream",
     "text": [
      "수학 : 100\n",
      "영어 : 80\n",
      "과학 : 80\n",
      "코딩 : 100\n",
      "-=-=-=-=-=-=-=-=\n",
      "수학 : 100\n",
      "\n",
      "영어 : 80\n",
      "과학 : 80\n",
      "-=-=-=-=-=-=-=-=\n",
      "수학 : 100\n",
      "\n",
      "영어 : 80\n",
      "\n",
      "과학 : 80\n",
      "\n",
      "코딩 : 100\n",
      "-=-=-=-=-=-=-=-=\n",
      "수학 : 100\n",
      "영어 : 80\n",
      "과학 : 80\n",
      "코딩 : 100"
     ]
    }
   ],
   "source": [
    "test_file = open(\"test.txt\", \"w\", encoding=\"utf8\")\n",
    "print(\"수학 : 100\", file=test_file)\n",
    "print(\"영어 : 80\", file=test_file)\n",
    "test_file.close()\n",
    "\n",
    "# 이어 쓰기\n",
    "test_file = open(\"test.txt\", \"a\", encoding=\"utf8\")\n",
    "test_file.write(\"과학 : 80\")\n",
    "test_file.write(\"\\n코딩 : 100\")\n",
    "test_file.close()\n",
    "\n",
    "\n",
    "\n",
    "# 파일 읽기\n",
    "test_file = open(\"test.txt\", \"r\", encoding=\"utf8\")\n",
    "print(test_file.read())\n",
    "test_file.close()\n",
    "print(\"-=-=-=-=-=-=-=-=\")\n",
    "test_file = open(\"test.txt\", \"r\", encoding=\"utf8\")\n",
    "print(test_file.readline()) # 줄별로 읽기, 커서는 다음줄로 이동\n",
    "print(test_file.readline(), end = \"\") # 줄바꿈 한번더 안하게 end추가\n",
    "print(test_file.readline(), end = \"\") \n",
    "test_file.close()\n",
    "\n",
    "print(\"-=-=-=-=-=-=-=-=\")\n",
    "test_file = open(\"test.txt\", \"r\", encoding=\"utf8\")\n",
    "while True:\n",
    "    line = test_file.readline()\n",
    "    if not line:\n",
    "        break\n",
    "    print(line)\n",
    "test_file.close()\n",
    "\n",
    "print(\"-=-=-=-=-=-=-=-=\")\n",
    "test_file = open(\"test.txt\", \"r\", encoding=\"utf8\")\n",
    "lines = test_file.readlines() # list 형태로 저장\n",
    "for line in lines:\n",
    "    print(line, end=\"\")\n",
    "test_file.close()"
   ]
  },
  {
   "cell_type": "code",
   "execution_count": null,
   "metadata": {},
   "outputs": [],
   "source": [
    "pickle"
   ]
  },
  {
   "cell_type": "code",
   "execution_count": null,
   "metadata": {},
   "outputs": [],
   "source": []
  },
  {
   "cell_type": "code",
   "execution_count": null,
   "metadata": {},
   "outputs": [],
   "source": []
  }
 ],
 "metadata": {
  "kernelspec": {
   "display_name": "Python 3",
   "language": "python",
   "name": "python3"
  },
  "language_info": {
   "codemirror_mode": {
    "name": "ipython",
    "version": 3
   },
   "file_extension": ".py",
   "mimetype": "text/x-python",
   "name": "python",
   "nbconvert_exporter": "python",
   "pygments_lexer": "ipython3",
   "version": "3.7.6"
  }
 },
 "nbformat": 4,
 "nbformat_minor": 4
}
